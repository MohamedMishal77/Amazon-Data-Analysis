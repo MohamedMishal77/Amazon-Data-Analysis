{
 "cells": [
  {
   "cell_type": "markdown",
   "id": "192c163d",
   "metadata": {},
   "source": [
    "## Amazon  Sale Insights"
   ]
  },
  {
   "cell_type": "markdown",
   "id": "3d83d93f",
   "metadata": {},
   "source": [
    "#### Filltering the data to be worked with for finding No.Of Best seller and Top rated Products "
   ]
  },
  {
   "cell_type": "code",
   "execution_count": 1,
   "id": "13e36cf4",
   "metadata": {},
   "outputs": [],
   "source": [
    "import pandas as pd\n",
    "a = pd.read_csv(\"amazon.csv\")\n",
    "b = pd.read_csv(\"amazon.csv\")\n",
    "\n"
   ]
  },
  {
   "cell_type": "code",
   "execution_count": 2,
   "id": "9b0ecb27",
   "metadata": {},
   "outputs": [
    {
     "name": "stderr",
     "output_type": "stream",
     "text": [
      "C:\\Users\\MOHAME~1\\AppData\\Local\\Temp/ipykernel_572/2694836378.py:1: FutureWarning: The default value of regex will change from True to False in a future version.\n",
      "  a[\"rating\"] = a[\"rating\"].str.replace(\"[|]\", \"4\")\n",
      "C:\\Users\\MOHAME~1\\AppData\\Local\\Temp/ipykernel_572/2694836378.py:2: FutureWarning: The default value of regex will change from True to False in a future version.\n",
      "  a[\"rating\"] = a[\"rating\"].str.replace(\"[.]\", \"\")\n"
     ]
    }
   ],
   "source": [
    "a[\"rating\"] = a[\"rating\"].str.replace(\"[|]\", \"4\")\n",
    "a[\"rating\"] = a[\"rating\"].str.replace(\"[.]\", \"\")\n",
    "a[\"rating\"] = a[\"rating\"].astype(int)"
   ]
  },
  {
   "cell_type": "code",
   "execution_count": 3,
   "id": "8729ecae",
   "metadata": {},
   "outputs": [
    {
     "data": {
      "text/html": [
       "<div>\n",
       "<style scoped>\n",
       "    .dataframe tbody tr th:only-of-type {\n",
       "        vertical-align: middle;\n",
       "    }\n",
       "\n",
       "    .dataframe tbody tr th {\n",
       "        vertical-align: top;\n",
       "    }\n",
       "\n",
       "    .dataframe thead th {\n",
       "        text-align: right;\n",
       "    }\n",
       "</style>\n",
       "<table border=\"1\" class=\"dataframe\">\n",
       "  <thead>\n",
       "    <tr style=\"text-align: right;\">\n",
       "      <th></th>\n",
       "      <th>product_id</th>\n",
       "      <th>product_name</th>\n",
       "      <th>category</th>\n",
       "      <th>discounted_price</th>\n",
       "      <th>actual_price</th>\n",
       "      <th>discount_percentage</th>\n",
       "      <th>rating</th>\n",
       "      <th>rating_count</th>\n",
       "      <th>about_product</th>\n",
       "      <th>user_id</th>\n",
       "      <th>user_name</th>\n",
       "      <th>review_id</th>\n",
       "      <th>review_title</th>\n",
       "      <th>review_content</th>\n",
       "      <th>img_link</th>\n",
       "      <th>product_link</th>\n",
       "    </tr>\n",
       "  </thead>\n",
       "  <tbody>\n",
       "    <tr>\n",
       "      <th>0</th>\n",
       "      <td>B07JW9H4J1</td>\n",
       "      <td>Wayona Nylon Braided USB to Lightning Fast Cha...</td>\n",
       "      <td>Computers&amp;Accessories|Accessories&amp;Peripherals|...</td>\n",
       "      <td>₹399</td>\n",
       "      <td>₹1,099</td>\n",
       "      <td>64%</td>\n",
       "      <td>42</td>\n",
       "      <td>24,269</td>\n",
       "      <td>High Compatibility : Compatible With iPhone 12...</td>\n",
       "      <td>AG3D6O4STAQKAY2UVGEUV46KN35Q,AHMY5CWJMMK5BJRBB...</td>\n",
       "      <td>Manav,Adarsh gupta,Sundeep,S.Sayeed Ahmed,jasp...</td>\n",
       "      <td>R3HXWT0LRP0NMF,R2AJM3LFTLZHFO,R6AQJGUP6P86,R1K...</td>\n",
       "      <td>Satisfied,Charging is really fast,Value for mo...</td>\n",
       "      <td>Looks durable Charging is fine tooNo complains...</td>\n",
       "      <td>https://m.media-amazon.com/images/W/WEBP_40237...</td>\n",
       "      <td>https://www.amazon.in/Wayona-Braided-WN3LG1-Sy...</td>\n",
       "    </tr>\n",
       "    <tr>\n",
       "      <th>1</th>\n",
       "      <td>B098NS6PVG</td>\n",
       "      <td>Ambrane Unbreakable 60W / 3A Fast Charging 1.5...</td>\n",
       "      <td>Computers&amp;Accessories|Accessories&amp;Peripherals|...</td>\n",
       "      <td>₹199</td>\n",
       "      <td>₹349</td>\n",
       "      <td>43%</td>\n",
       "      <td>40</td>\n",
       "      <td>43,994</td>\n",
       "      <td>Compatible with all Type C enabled devices, be...</td>\n",
       "      <td>AECPFYFQVRUWC3KGNLJIOREFP5LQ,AGYYVPDD7YG7FYNBX...</td>\n",
       "      <td>ArdKn,Nirbhay kumar,Sagar Viswanathan,Asp,Plac...</td>\n",
       "      <td>RGIQEG07R9HS2,R1SMWZQ86XIN8U,R2J3Y1WL29GWDE,RY...</td>\n",
       "      <td>A Good Braided Cable for Your Type C Device,Go...</td>\n",
       "      <td>I ordered this cable to connect my phone to An...</td>\n",
       "      <td>https://m.media-amazon.com/images/W/WEBP_40237...</td>\n",
       "      <td>https://www.amazon.in/Ambrane-Unbreakable-Char...</td>\n",
       "    </tr>\n",
       "    <tr>\n",
       "      <th>2</th>\n",
       "      <td>B096MSW6CT</td>\n",
       "      <td>Sounce Fast Phone Charging Cable &amp; Data Sync U...</td>\n",
       "      <td>Computers&amp;Accessories|Accessories&amp;Peripherals|...</td>\n",
       "      <td>₹199</td>\n",
       "      <td>₹1,899</td>\n",
       "      <td>90%</td>\n",
       "      <td>39</td>\n",
       "      <td>7,928</td>\n",
       "      <td>【 Fast Charger&amp; Data Sync】-With built-in safet...</td>\n",
       "      <td>AGU3BBQ2V2DDAMOAKGFAWDDQ6QHA,AESFLDV2PT363T2AQ...</td>\n",
       "      <td>Kunal,Himanshu,viswanath,sai niharka,saqib mal...</td>\n",
       "      <td>R3J3EQQ9TZI5ZJ,R3E7WBGK7ID0KV,RWU79XKQ6I1QF,R2...</td>\n",
       "      <td>Good speed for earlier versions,Good Product,W...</td>\n",
       "      <td>Not quite durable and sturdy,https://m.media-a...</td>\n",
       "      <td>https://m.media-amazon.com/images/W/WEBP_40237...</td>\n",
       "      <td>https://www.amazon.in/Sounce-iPhone-Charging-C...</td>\n",
       "    </tr>\n",
       "    <tr>\n",
       "      <th>3</th>\n",
       "      <td>B08HDJ86NZ</td>\n",
       "      <td>boAt Deuce USB 300 2 in 1 Type-C &amp; Micro USB S...</td>\n",
       "      <td>Computers&amp;Accessories|Accessories&amp;Peripherals|...</td>\n",
       "      <td>₹329</td>\n",
       "      <td>₹699</td>\n",
       "      <td>53%</td>\n",
       "      <td>42</td>\n",
       "      <td>94,363</td>\n",
       "      <td>The boAt Deuce USB 300 2 in 1 cable is compati...</td>\n",
       "      <td>AEWAZDZZJLQUYVOVGBEUKSLXHQ5A,AG5HTSFRRE6NL3M5S...</td>\n",
       "      <td>Omkar dhale,JD,HEMALATHA,Ajwadh a.,amar singh ...</td>\n",
       "      <td>R3EEUZKKK9J36I,R3HJVYCLYOY554,REDECAZ7AMPQC,R1...</td>\n",
       "      <td>Good product,Good one,Nice,Really nice product...</td>\n",
       "      <td>Good product,long wire,Charges good,Nice,I bou...</td>\n",
       "      <td>https://m.media-amazon.com/images/I/41V5FtEWPk...</td>\n",
       "      <td>https://www.amazon.in/Deuce-300-Resistant-Tang...</td>\n",
       "    </tr>\n",
       "    <tr>\n",
       "      <th>4</th>\n",
       "      <td>B08CF3B7N1</td>\n",
       "      <td>Portronics Konnect L 1.2M Fast Charging 3A 8 P...</td>\n",
       "      <td>Computers&amp;Accessories|Accessories&amp;Peripherals|...</td>\n",
       "      <td>₹154</td>\n",
       "      <td>₹399</td>\n",
       "      <td>61%</td>\n",
       "      <td>42</td>\n",
       "      <td>16,905</td>\n",
       "      <td>[CHARGE &amp; SYNC FUNCTION]- This cable comes wit...</td>\n",
       "      <td>AE3Q6KSUK5P75D5HFYHCRAOLODSA,AFUGIFH5ZAFXRDSZH...</td>\n",
       "      <td>rahuls6099,Swasat Borah,Ajay Wadke,Pranali,RVK...</td>\n",
       "      <td>R1BP4L2HH9TFUP,R16PVJEXKV6QZS,R2UPDB81N66T4P,R...</td>\n",
       "      <td>As good as original,Decent,Good one for second...</td>\n",
       "      <td>Bought this instead of original apple, does th...</td>\n",
       "      <td>https://m.media-amazon.com/images/W/WEBP_40237...</td>\n",
       "      <td>https://www.amazon.in/Portronics-Konnect-POR-1...</td>\n",
       "    </tr>\n",
       "    <tr>\n",
       "      <th>...</th>\n",
       "      <td>...</td>\n",
       "      <td>...</td>\n",
       "      <td>...</td>\n",
       "      <td>...</td>\n",
       "      <td>...</td>\n",
       "      <td>...</td>\n",
       "      <td>...</td>\n",
       "      <td>...</td>\n",
       "      <td>...</td>\n",
       "      <td>...</td>\n",
       "      <td>...</td>\n",
       "      <td>...</td>\n",
       "      <td>...</td>\n",
       "      <td>...</td>\n",
       "      <td>...</td>\n",
       "      <td>...</td>\n",
       "    </tr>\n",
       "    <tr>\n",
       "      <th>1460</th>\n",
       "      <td>B08L7J3T31</td>\n",
       "      <td>Noir Aqua - 5pcs PP Spun Filter + 1 Spanner | ...</td>\n",
       "      <td>Home&amp;Kitchen|Kitchen&amp;HomeAppliances|WaterPurif...</td>\n",
       "      <td>₹379</td>\n",
       "      <td>₹919</td>\n",
       "      <td>59%</td>\n",
       "      <td>40</td>\n",
       "      <td>1,090</td>\n",
       "      <td>SUPREME QUALITY 90 GRAM 3 LAYER THIK PP SPUN F...</td>\n",
       "      <td>AHITFY6AHALOFOHOZEOC6XBP4FEA,AFRABBODZJZQB6Z4U...</td>\n",
       "      <td>Prabha ds,Raghuram bk,Real Deal,Amazon Custome...</td>\n",
       "      <td>R3G3XFHPBFF0E8,R3C0BZCD32EIGW,R2EBVBCN9QPD9R,R...</td>\n",
       "      <td>Received the product without spanner,Excellent...</td>\n",
       "      <td>I received product without spanner,Excellent p...</td>\n",
       "      <td>https://m.media-amazon.com/images/I/41fDdRtjfx...</td>\n",
       "      <td>https://www.amazon.in/Noir-Aqua-Spanner-Purifi...</td>\n",
       "    </tr>\n",
       "    <tr>\n",
       "      <th>1461</th>\n",
       "      <td>B01M6453MB</td>\n",
       "      <td>Prestige Delight PRWO Electric Rice Cooker (1 ...</td>\n",
       "      <td>Home&amp;Kitchen|Kitchen&amp;HomeAppliances|SmallKitch...</td>\n",
       "      <td>₹2,280</td>\n",
       "      <td>₹3,045</td>\n",
       "      <td>25%</td>\n",
       "      <td>41</td>\n",
       "      <td>4,118</td>\n",
       "      <td>230 Volts, 400 watts, 1 Year</td>\n",
       "      <td>AFG5FM3NEMOL6BNFRV2NK5FNJCHQ,AGEINTRN6Z563RMLH...</td>\n",
       "      <td>Manu Bhai,Naveenpittu,Evatira Sangma,JAGANNADH...</td>\n",
       "      <td>R3DDL2UPKQ2CK9,R2SYYU1OATVIU5,R1VM993161IYRW,R...</td>\n",
       "      <td>ok,everything was good couldn't return bcoz I ...</td>\n",
       "      <td>ok,got everything as mentioned but the measuri...</td>\n",
       "      <td>https://m.media-amazon.com/images/I/41gzDxk4+k...</td>\n",
       "      <td>https://www.amazon.in/Prestige-Delight-PRWO-1-...</td>\n",
       "    </tr>\n",
       "    <tr>\n",
       "      <th>1462</th>\n",
       "      <td>B009P2LIL4</td>\n",
       "      <td>Bajaj Majesty RX10 2000 Watts Heat Convector R...</td>\n",
       "      <td>Home&amp;Kitchen|Heating,Cooling&amp;AirQuality|RoomHe...</td>\n",
       "      <td>₹2,219</td>\n",
       "      <td>₹3,080</td>\n",
       "      <td>28%</td>\n",
       "      <td>36</td>\n",
       "      <td>468</td>\n",
       "      <td>International design and styling|Two heat sett...</td>\n",
       "      <td>AGVPWCMAHYQWJOQKMUJN4DW3KM5Q,AF4Q3E66MY4SR7YQZ...</td>\n",
       "      <td>Nehal Desai,Danish Parwez,Amazon Customer,Amaz...</td>\n",
       "      <td>R1TLRJVW4STY5I,R2O455KRN493R1,R3Q5MVGBRIAS2G,R...</td>\n",
       "      <td>very good,Work but front melt after 2 month,Go...</td>\n",
       "      <td>plastic but cool body ,u have to find sturdy s...</td>\n",
       "      <td>https://m.media-amazon.com/images/W/WEBP_40237...</td>\n",
       "      <td>https://www.amazon.in/Bajaj-RX-10-2000-Watt-Co...</td>\n",
       "    </tr>\n",
       "    <tr>\n",
       "      <th>1463</th>\n",
       "      <td>B00J5DYCCA</td>\n",
       "      <td>Havells Ventil Air DSP 230mm Exhaust Fan (Pist...</td>\n",
       "      <td>Home&amp;Kitchen|Heating,Cooling&amp;AirQuality|Fans|E...</td>\n",
       "      <td>₹1,399</td>\n",
       "      <td>₹1,890</td>\n",
       "      <td>26%</td>\n",
       "      <td>40</td>\n",
       "      <td>8,031</td>\n",
       "      <td>Fan sweep area: 230 MM ; Noise level: (40 - 45...</td>\n",
       "      <td>AF2JQCLSCY3QJATWUNNHUSVUPNQQ,AFDMLUXC5LS5RXDJS...</td>\n",
       "      <td>Shubham Dubey,E.GURUBARAN,Mayank S.,eusuf khan...</td>\n",
       "      <td>R39Q2Y79MM9SWK,R3079BG1NIH6MB,R29A31ZELTZNJM,R...</td>\n",
       "      <td>Fan Speed is slow,Good quality,Good product,go...</td>\n",
       "      <td>I have installed this in my kitchen working fi...</td>\n",
       "      <td>https://m.media-amazon.com/images/W/WEBP_40237...</td>\n",
       "      <td>https://www.amazon.in/Havells-Ventilair-230mm-...</td>\n",
       "    </tr>\n",
       "    <tr>\n",
       "      <th>1464</th>\n",
       "      <td>B01486F4G6</td>\n",
       "      <td>Borosil Jumbo 1000-Watt Grill Sandwich Maker (...</td>\n",
       "      <td>Home&amp;Kitchen|Kitchen&amp;HomeAppliances|SmallKitch...</td>\n",
       "      <td>₹2,863</td>\n",
       "      <td>₹3,690</td>\n",
       "      <td>22%</td>\n",
       "      <td>43</td>\n",
       "      <td>6,987</td>\n",
       "      <td>Brand-Borosil, Specification â€“ 23V ~ 5Hz;1 W...</td>\n",
       "      <td>AFGW5PT3R6ZAVQR4Y5MWVAKBZAYA,AG7QNJ2SCS5VS5VYY...</td>\n",
       "      <td>Rajib,Ajay B,Vikas Kahol,PARDEEP,Anindya Prama...</td>\n",
       "      <td>R20RBRZ0WEUJT9,ROKIFK9R2ISSE,R30EEG2FNJSN5I,R2...</td>\n",
       "      <td>Works perfect,Ok good product,Nice Product. Re...</td>\n",
       "      <td>It does it job perfectly..only issue is temp c...</td>\n",
       "      <td>https://m.media-amazon.com/images/W/WEBP_40237...</td>\n",
       "      <td>https://www.amazon.in/Borosil-Jumbo-1000-Watt-...</td>\n",
       "    </tr>\n",
       "  </tbody>\n",
       "</table>\n",
       "<p>1465 rows × 16 columns</p>\n",
       "</div>"
      ],
      "text/plain": [
       "      product_id                                       product_name  \\\n",
       "0     B07JW9H4J1  Wayona Nylon Braided USB to Lightning Fast Cha...   \n",
       "1     B098NS6PVG  Ambrane Unbreakable 60W / 3A Fast Charging 1.5...   \n",
       "2     B096MSW6CT  Sounce Fast Phone Charging Cable & Data Sync U...   \n",
       "3     B08HDJ86NZ  boAt Deuce USB 300 2 in 1 Type-C & Micro USB S...   \n",
       "4     B08CF3B7N1  Portronics Konnect L 1.2M Fast Charging 3A 8 P...   \n",
       "...          ...                                                ...   \n",
       "1460  B08L7J3T31  Noir Aqua - 5pcs PP Spun Filter + 1 Spanner | ...   \n",
       "1461  B01M6453MB  Prestige Delight PRWO Electric Rice Cooker (1 ...   \n",
       "1462  B009P2LIL4  Bajaj Majesty RX10 2000 Watts Heat Convector R...   \n",
       "1463  B00J5DYCCA  Havells Ventil Air DSP 230mm Exhaust Fan (Pist...   \n",
       "1464  B01486F4G6  Borosil Jumbo 1000-Watt Grill Sandwich Maker (...   \n",
       "\n",
       "                                               category discounted_price  \\\n",
       "0     Computers&Accessories|Accessories&Peripherals|...             ₹399   \n",
       "1     Computers&Accessories|Accessories&Peripherals|...             ₹199   \n",
       "2     Computers&Accessories|Accessories&Peripherals|...             ₹199   \n",
       "3     Computers&Accessories|Accessories&Peripherals|...             ₹329   \n",
       "4     Computers&Accessories|Accessories&Peripherals|...             ₹154   \n",
       "...                                                 ...              ...   \n",
       "1460  Home&Kitchen|Kitchen&HomeAppliances|WaterPurif...             ₹379   \n",
       "1461  Home&Kitchen|Kitchen&HomeAppliances|SmallKitch...           ₹2,280   \n",
       "1462  Home&Kitchen|Heating,Cooling&AirQuality|RoomHe...           ₹2,219   \n",
       "1463  Home&Kitchen|Heating,Cooling&AirQuality|Fans|E...           ₹1,399   \n",
       "1464  Home&Kitchen|Kitchen&HomeAppliances|SmallKitch...           ₹2,863   \n",
       "\n",
       "     actual_price discount_percentage  rating rating_count  \\\n",
       "0          ₹1,099                 64%      42       24,269   \n",
       "1            ₹349                 43%      40       43,994   \n",
       "2          ₹1,899                 90%      39        7,928   \n",
       "3            ₹699                 53%      42       94,363   \n",
       "4            ₹399                 61%      42       16,905   \n",
       "...           ...                 ...     ...          ...   \n",
       "1460         ₹919                 59%      40        1,090   \n",
       "1461       ₹3,045                 25%      41        4,118   \n",
       "1462       ₹3,080                 28%      36          468   \n",
       "1463       ₹1,890                 26%      40        8,031   \n",
       "1464       ₹3,690                 22%      43        6,987   \n",
       "\n",
       "                                          about_product  \\\n",
       "0     High Compatibility : Compatible With iPhone 12...   \n",
       "1     Compatible with all Type C enabled devices, be...   \n",
       "2     【 Fast Charger& Data Sync】-With built-in safet...   \n",
       "3     The boAt Deuce USB 300 2 in 1 cable is compati...   \n",
       "4     [CHARGE & SYNC FUNCTION]- This cable comes wit...   \n",
       "...                                                 ...   \n",
       "1460  SUPREME QUALITY 90 GRAM 3 LAYER THIK PP SPUN F...   \n",
       "1461                       230 Volts, 400 watts, 1 Year   \n",
       "1462  International design and styling|Two heat sett...   \n",
       "1463  Fan sweep area: 230 MM ; Noise level: (40 - 45...   \n",
       "1464  Brand-Borosil, Specification â€“ 23V ~ 5Hz;1 W...   \n",
       "\n",
       "                                                user_id  \\\n",
       "0     AG3D6O4STAQKAY2UVGEUV46KN35Q,AHMY5CWJMMK5BJRBB...   \n",
       "1     AECPFYFQVRUWC3KGNLJIOREFP5LQ,AGYYVPDD7YG7FYNBX...   \n",
       "2     AGU3BBQ2V2DDAMOAKGFAWDDQ6QHA,AESFLDV2PT363T2AQ...   \n",
       "3     AEWAZDZZJLQUYVOVGBEUKSLXHQ5A,AG5HTSFRRE6NL3M5S...   \n",
       "4     AE3Q6KSUK5P75D5HFYHCRAOLODSA,AFUGIFH5ZAFXRDSZH...   \n",
       "...                                                 ...   \n",
       "1460  AHITFY6AHALOFOHOZEOC6XBP4FEA,AFRABBODZJZQB6Z4U...   \n",
       "1461  AFG5FM3NEMOL6BNFRV2NK5FNJCHQ,AGEINTRN6Z563RMLH...   \n",
       "1462  AGVPWCMAHYQWJOQKMUJN4DW3KM5Q,AF4Q3E66MY4SR7YQZ...   \n",
       "1463  AF2JQCLSCY3QJATWUNNHUSVUPNQQ,AFDMLUXC5LS5RXDJS...   \n",
       "1464  AFGW5PT3R6ZAVQR4Y5MWVAKBZAYA,AG7QNJ2SCS5VS5VYY...   \n",
       "\n",
       "                                              user_name  \\\n",
       "0     Manav,Adarsh gupta,Sundeep,S.Sayeed Ahmed,jasp...   \n",
       "1     ArdKn,Nirbhay kumar,Sagar Viswanathan,Asp,Plac...   \n",
       "2     Kunal,Himanshu,viswanath,sai niharka,saqib mal...   \n",
       "3     Omkar dhale,JD,HEMALATHA,Ajwadh a.,amar singh ...   \n",
       "4     rahuls6099,Swasat Borah,Ajay Wadke,Pranali,RVK...   \n",
       "...                                                 ...   \n",
       "1460  Prabha ds,Raghuram bk,Real Deal,Amazon Custome...   \n",
       "1461  Manu Bhai,Naveenpittu,Evatira Sangma,JAGANNADH...   \n",
       "1462  Nehal Desai,Danish Parwez,Amazon Customer,Amaz...   \n",
       "1463  Shubham Dubey,E.GURUBARAN,Mayank S.,eusuf khan...   \n",
       "1464  Rajib,Ajay B,Vikas Kahol,PARDEEP,Anindya Prama...   \n",
       "\n",
       "                                              review_id  \\\n",
       "0     R3HXWT0LRP0NMF,R2AJM3LFTLZHFO,R6AQJGUP6P86,R1K...   \n",
       "1     RGIQEG07R9HS2,R1SMWZQ86XIN8U,R2J3Y1WL29GWDE,RY...   \n",
       "2     R3J3EQQ9TZI5ZJ,R3E7WBGK7ID0KV,RWU79XKQ6I1QF,R2...   \n",
       "3     R3EEUZKKK9J36I,R3HJVYCLYOY554,REDECAZ7AMPQC,R1...   \n",
       "4     R1BP4L2HH9TFUP,R16PVJEXKV6QZS,R2UPDB81N66T4P,R...   \n",
       "...                                                 ...   \n",
       "1460  R3G3XFHPBFF0E8,R3C0BZCD32EIGW,R2EBVBCN9QPD9R,R...   \n",
       "1461  R3DDL2UPKQ2CK9,R2SYYU1OATVIU5,R1VM993161IYRW,R...   \n",
       "1462  R1TLRJVW4STY5I,R2O455KRN493R1,R3Q5MVGBRIAS2G,R...   \n",
       "1463  R39Q2Y79MM9SWK,R3079BG1NIH6MB,R29A31ZELTZNJM,R...   \n",
       "1464  R20RBRZ0WEUJT9,ROKIFK9R2ISSE,R30EEG2FNJSN5I,R2...   \n",
       "\n",
       "                                           review_title  \\\n",
       "0     Satisfied,Charging is really fast,Value for mo...   \n",
       "1     A Good Braided Cable for Your Type C Device,Go...   \n",
       "2     Good speed for earlier versions,Good Product,W...   \n",
       "3     Good product,Good one,Nice,Really nice product...   \n",
       "4     As good as original,Decent,Good one for second...   \n",
       "...                                                 ...   \n",
       "1460  Received the product without spanner,Excellent...   \n",
       "1461  ok,everything was good couldn't return bcoz I ...   \n",
       "1462  very good,Work but front melt after 2 month,Go...   \n",
       "1463  Fan Speed is slow,Good quality,Good product,go...   \n",
       "1464  Works perfect,Ok good product,Nice Product. Re...   \n",
       "\n",
       "                                         review_content  \\\n",
       "0     Looks durable Charging is fine tooNo complains...   \n",
       "1     I ordered this cable to connect my phone to An...   \n",
       "2     Not quite durable and sturdy,https://m.media-a...   \n",
       "3     Good product,long wire,Charges good,Nice,I bou...   \n",
       "4     Bought this instead of original apple, does th...   \n",
       "...                                                 ...   \n",
       "1460  I received product without spanner,Excellent p...   \n",
       "1461  ok,got everything as mentioned but the measuri...   \n",
       "1462  plastic but cool body ,u have to find sturdy s...   \n",
       "1463  I have installed this in my kitchen working fi...   \n",
       "1464  It does it job perfectly..only issue is temp c...   \n",
       "\n",
       "                                               img_link  \\\n",
       "0     https://m.media-amazon.com/images/W/WEBP_40237...   \n",
       "1     https://m.media-amazon.com/images/W/WEBP_40237...   \n",
       "2     https://m.media-amazon.com/images/W/WEBP_40237...   \n",
       "3     https://m.media-amazon.com/images/I/41V5FtEWPk...   \n",
       "4     https://m.media-amazon.com/images/W/WEBP_40237...   \n",
       "...                                                 ...   \n",
       "1460  https://m.media-amazon.com/images/I/41fDdRtjfx...   \n",
       "1461  https://m.media-amazon.com/images/I/41gzDxk4+k...   \n",
       "1462  https://m.media-amazon.com/images/W/WEBP_40237...   \n",
       "1463  https://m.media-amazon.com/images/W/WEBP_40237...   \n",
       "1464  https://m.media-amazon.com/images/W/WEBP_40237...   \n",
       "\n",
       "                                           product_link  \n",
       "0     https://www.amazon.in/Wayona-Braided-WN3LG1-Sy...  \n",
       "1     https://www.amazon.in/Ambrane-Unbreakable-Char...  \n",
       "2     https://www.amazon.in/Sounce-iPhone-Charging-C...  \n",
       "3     https://www.amazon.in/Deuce-300-Resistant-Tang...  \n",
       "4     https://www.amazon.in/Portronics-Konnect-POR-1...  \n",
       "...                                                 ...  \n",
       "1460  https://www.amazon.in/Noir-Aqua-Spanner-Purifi...  \n",
       "1461  https://www.amazon.in/Prestige-Delight-PRWO-1-...  \n",
       "1462  https://www.amazon.in/Bajaj-RX-10-2000-Watt-Co...  \n",
       "1463  https://www.amazon.in/Havells-Ventilair-230mm-...  \n",
       "1464  https://www.amazon.in/Borosil-Jumbo-1000-Watt-...  \n",
       "\n",
       "[1465 rows x 16 columns]"
      ]
     },
     "execution_count": 3,
     "metadata": {},
     "output_type": "execute_result"
    }
   ],
   "source": [
    "a.replace({\"rating\":{4:40,1:10,2:20,3:30,5:50}})"
   ]
  },
  {
   "cell_type": "code",
   "execution_count": 4,
   "id": "0406706f",
   "metadata": {},
   "outputs": [
    {
     "name": "stderr",
     "output_type": "stream",
     "text": [
      "C:\\Users\\MOHAME~1\\AppData\\Local\\Temp/ipykernel_572/4194095102.py:2: FutureWarning: The default value of regex will change from True to False in a future version.\n",
      "  a[\"discounted_price\"] = a[\"discounted_price\"].str.replace(\"[₹]\", \"\")\n",
      "C:\\Users\\MOHAME~1\\AppData\\Local\\Temp/ipykernel_572/4194095102.py:3: FutureWarning: The default value of regex will change from True to False in a future version.\n",
      "  a[\"discounted_price\"] = a[\"discounted_price\"].str.replace(\"[â]\", \"\")\n",
      "C:\\Users\\MOHAME~1\\AppData\\Local\\Temp/ipykernel_572/4194095102.py:4: FutureWarning: The default value of regex will change from True to False in a future version.\n",
      "  a[\"discounted_price\"] = a[\"discounted_price\"].str.replace(\"[¹]\", \"\")\n",
      "C:\\Users\\MOHAME~1\\AppData\\Local\\Temp/ipykernel_572/4194095102.py:5: FutureWarning: The default value of regex will change from True to False in a future version.\n",
      "  a[\"discounted_price\"] = a[\"discounted_price\"].str.replace(\"[,.]\", \"\")\n"
     ]
    }
   ],
   "source": [
    "a.replace({\"discounted_price\":{\"₹\":\"\",\"â\":\"\",\"¹\":\"\",\",\":\"\",\".\":\"\"}})\n",
    "a[\"discounted_price\"] = a[\"discounted_price\"].str.replace(\"[₹]\", \"\")\n",
    "a[\"discounted_price\"] = a[\"discounted_price\"].str.replace(\"[â]\", \"\")\n",
    "a[\"discounted_price\"] = a[\"discounted_price\"].str.replace(\"[¹]\", \"\")\n",
    "a[\"discounted_price\"] = a[\"discounted_price\"].str.replace(\"[,.]\", \"\")"
   ]
  },
  {
   "cell_type": "code",
   "execution_count": 5,
   "id": "e6be978c",
   "metadata": {},
   "outputs": [],
   "source": [
    "a[\"discounted_price\"] = a[\"discounted_price\"].astype(int)"
   ]
  },
  {
   "cell_type": "code",
   "execution_count": 6,
   "id": "e25fd83c",
   "metadata": {},
   "outputs": [
    {
     "name": "stderr",
     "output_type": "stream",
     "text": [
      "C:\\Users\\MOHAME~1\\AppData\\Local\\Temp/ipykernel_572/2555690266.py:1: FutureWarning: The default value of regex will change from True to False in a future version.\n",
      "  a[\"rating_count\"] = a[\"rating_count\"].str.replace(\"[,]\", \"\")\n"
     ]
    }
   ],
   "source": [
    "a[\"rating_count\"] = a[\"rating_count\"].str.replace(\"[,]\", \"\")\n",
    "a.replace({\"rating_count\":{\",\":\"\"}})\n",
    "a[\"rating_count\"].fillna(5, inplace = True)"
   ]
  },
  {
   "cell_type": "code",
   "execution_count": 7,
   "id": "e1246f0b",
   "metadata": {},
   "outputs": [],
   "source": [
    "a[\"rating_count\"] = a[\"rating_count\"].astype(int)"
   ]
  },
  {
   "cell_type": "code",
   "execution_count": 8,
   "id": "d402bd18",
   "metadata": {},
   "outputs": [
    {
     "name": "stderr",
     "output_type": "stream",
     "text": [
      "C:\\Users\\MOHAME~1\\AppData\\Local\\Temp/ipykernel_572/2394003649.py:1: FutureWarning: The default value of regex will change from True to False in a future version.\n",
      "  a[\"actual_price\"] = a[\"actual_price\"].str.replace(\"[₹]\", \"\")\n",
      "C:\\Users\\MOHAME~1\\AppData\\Local\\Temp/ipykernel_572/2394003649.py:2: FutureWarning: The default value of regex will change from True to False in a future version.\n",
      "  a[\"actual_price\"] = a[\"actual_price\"].str.replace(\"[â]\", \"\")\n",
      "C:\\Users\\MOHAME~1\\AppData\\Local\\Temp/ipykernel_572/2394003649.py:3: FutureWarning: The default value of regex will change from True to False in a future version.\n",
      "  a[\"actual_price\"] = a[\"actual_price\"].str.replace(\"[¹]\", \"\")\n",
      "C:\\Users\\MOHAME~1\\AppData\\Local\\Temp/ipykernel_572/2394003649.py:4: FutureWarning: The default value of regex will change from True to False in a future version.\n",
      "  a[\"actual_price\"] = a[\"actual_price\"].str.replace(\"[.,]\", \"\")\n"
     ]
    }
   ],
   "source": [
    "a[\"actual_price\"] = a[\"actual_price\"].str.replace(\"[₹]\", \"\")\n",
    "a[\"actual_price\"] = a[\"actual_price\"].str.replace(\"[â]\", \"\")\n",
    "a[\"actual_price\"] = a[\"actual_price\"].str.replace(\"[¹]\", \"\")\n",
    "a[\"actual_price\"] = a[\"actual_price\"].str.replace(\"[.,]\", \"\")"
   ]
  },
  {
   "cell_type": "code",
   "execution_count": 9,
   "id": "b1a51ed3",
   "metadata": {},
   "outputs": [],
   "source": [
    "a[\"actual_price\"] = a[\"actual_price\"].astype(int)"
   ]
  },
  {
   "cell_type": "code",
   "execution_count": 10,
   "id": "e9d3cd59",
   "metadata": {},
   "outputs": [
    {
     "name": "stderr",
     "output_type": "stream",
     "text": [
      "C:\\Users\\MOHAME~1\\AppData\\Local\\Temp/ipykernel_572/1636106659.py:1: FutureWarning: The default value of regex will change from True to False in a future version.\n",
      "  a[\"discount_percentage\"] = a[\"discount_percentage\"].str.replace(\"[%]\", \"\")\n"
     ]
    }
   ],
   "source": [
    "a[\"discount_percentage\"] = a[\"discount_percentage\"].str.replace(\"[%]\", \"\")"
   ]
  },
  {
   "cell_type": "code",
   "execution_count": 11,
   "id": "380a0a89",
   "metadata": {},
   "outputs": [],
   "source": [
    "a[\"discount_percentage\"] = a[\"discount_percentage\"].astype(int)"
   ]
  },
  {
   "cell_type": "code",
   "execution_count": 12,
   "id": "7dc2461a",
   "metadata": {
    "scrolled": true
   },
   "outputs": [
    {
     "name": "stdout",
     "output_type": "stream",
     "text": [
      "<class 'pandas.core.frame.DataFrame'>\n",
      "RangeIndex: 1465 entries, 0 to 1464\n",
      "Data columns (total 16 columns):\n",
      " #   Column               Non-Null Count  Dtype \n",
      "---  ------               --------------  ----- \n",
      " 0   product_id           1465 non-null   object\n",
      " 1   product_name         1465 non-null   object\n",
      " 2   category             1465 non-null   object\n",
      " 3   discounted_price     1465 non-null   int32 \n",
      " 4   actual_price         1465 non-null   int32 \n",
      " 5   discount_percentage  1465 non-null   int32 \n",
      " 6   rating               1465 non-null   int32 \n",
      " 7   rating_count         1465 non-null   int32 \n",
      " 8   about_product        1465 non-null   object\n",
      " 9   user_id              1465 non-null   object\n",
      " 10  user_name            1465 non-null   object\n",
      " 11  review_id            1465 non-null   object\n",
      " 12  review_title         1465 non-null   object\n",
      " 13  review_content       1465 non-null   object\n",
      " 14  img_link             1465 non-null   object\n",
      " 15  product_link         1465 non-null   object\n",
      "dtypes: int32(5), object(11)\n",
      "memory usage: 154.6+ KB\n"
     ]
    }
   ],
   "source": [
    "pd.set_option('display.max_rows',None)\n",
    "pd.set_option('display.max_column',None)\n",
    "a.info()"
   ]
  },
  {
   "cell_type": "code",
   "execution_count": 13,
   "id": "e2e3f420",
   "metadata": {},
   "outputs": [],
   "source": [
    "r1=a.replace({\"category\":{\"Car&Motorbike|CarAccessories|InteriorAccessories|AirPurifiers&Ionizers\":\"car\",\"Computers&Accessories|Accessories&Peripherals|Adapters|USBtoUSBAdapters\":\"computers\",\"Computers&Accessories|Accessories&Peripherals|Audio&VideoAccessories|PCHeadsets\":\"computers\",\"Computers&Accessories|Accessories&Peripherals|Audio&VideoAccessories|PCMicrophones\":\"computers\",\"Computers&Accessories|Accessories&Peripherals|Audio&VideoAccessories|PCSpeakers\":\"computers\",\"Computers&Accessories|Accessories&Peripherals|Audio&VideoAccessories|Webcams&VoIPEquipment|Webcams\":\"computers\",\"Computers&Accessories|Accessories&Peripherals|Cables&Accessories|CableConnectionProtectors\":\"computers\",\"Computers&Accessories|Accessories&Peripherals|Cables&Accessories|Cables|DVICables\":\"computers\",\"Computers&Accessories|Accessories&Peripherals|Cables&Accessories|Cables|EthernetCables\":\"computers\",\"Computers&Accessories|Accessories&Peripherals|Cables&Accessories|Cables|SATACables\":\"computers\",\"Computers&Accessories|Accessories&Peripherals|Cables&Accessories|Cables|USBCables\":\"computers\",\"Computers&Accessories|Accessories&Peripherals|HardDiskBags\":\"computers\",\"Computers&Accessories|Accessories&Peripherals|HardDriveAccessories|Caddies\":\"computers\",\"Computers&Accessories|Accessories&Peripherals|Keyboards,Mice&InputDevices|GraphicTablets\":\"computers\",\"Computers&Accessories|Accessories&Peripherals|Keyboards,Mice&InputDevices|Keyboard&MiceAccessories|DustCovers\":\"computers\",\"Computers&Accessories|Accessories&Peripherals|Keyboards,Mice&InputDevices|Keyboard&MiceAccessories|MousePads\":\"computers\",\"Computers&Accessories|Accessories&Peripherals|Keyboards,Mice&InputDevices|Keyboard&MouseSets\":\"computers\",\"Computers&Accessories|Accessories&Peripherals|Keyboards,Mice&InputDevices|Keyboards\":\"computers\",\"Computers&Accessories|Accessories&Peripherals|Keyboards,Mice&InputDevices|Mice\":\"computers\",\"Computers&Accessories|Accessories&Peripherals|LaptopAccessories\":\"computers\",\"Computers&Accessories|Accessories&Peripherals|LaptopAccessories|Bags&Sleeves|LaptopSleeves&Slipcases\":\"computers\",\"Computers&Accessories|Accessories&Peripherals|LaptopAccessories|CameraPrivacyCovers\":\"computers\",\"Computers&Accessories|Accessories&Peripherals|LaptopAccessories|CoolingPads\":\"computers\",\"Computers&Accessories|Accessories&Peripherals|LaptopAccessories|Lapdesks\":\"computers\",\"Computers&Accessories|Accessories&Peripherals|LaptopAccessories|LaptopChargers&PowerSupplies\":\"computers\",\"Computers&Accessories|Components|InternalHardDrives\":\"computers\",\"Computers&Accessories|Components|InternalSolidStateDrives\":\"computers\",\"Computers&Accessories|Components|InternalSolidStateDrives\":\"computers\",\"Computers&Accessories|ExternalDevices&DataStorage|ExternalHardDisks\":\"computers\",\"Computers&Accessories|ExternalDevices&DataStorage|ExternalMemoryCardReaders\":\"computers\",\"Computers&Accessories|ExternalDevices&DataStorage|ExternalSolidStateDrives\":\"computers\",\"Computers&Accessories|ExternalDevices&DataStorage|PenDrives\":\"computers\",\"Computers&Accessories|Laptops|TraditionalLaptops\":\"computers\",\"Computers&Accessories|Monitors\":\"computers\",\"Computers&Accessories|NetworkingDevices\":\"computers\",\"Computers&Accessories|NetworkingDevices|DataCards&Dongles\":\"computers\",\"Computers&Accessories|NetworkingDevices|NetworkAdapters|BluetoothAdapters\":\"computers\",\"Computers&Accessories|NetworkingDevices|NetworkAdapters|PowerLANAdapters\":\"computers\",\"Computers&Accessories|NetworkingDevices|NetworkAdapters|WirelessUSBAdapters\":\"computers\",\"Computers&Accessories|NetworkingDevices|Repeaters&Extenders\":\"computers\",\"Computers&Accessories|NetworkingDevices|Routers\":\"computers\",\"Computers&Accessories|Printers,Inks&Accessories|Inks,Toners&Cartridges|InkjetInkCartridges\":\"computers\",\"Computers&Accessories|Printers,Inks&Accessories|Inks,Toners&Cartridges|InkjetInkRefills&Kits\":\"computers\",\"Computers&Accessories|Printers,Inks&Accessories|Inks,Toners&Cartridges|TonerCartridges\":\"computers\",\"Computers&Accessories|Printers,Inks&Accessories|Printers\":\"computers\",\"Computers&Accessories|Printers,Inks&Accessories|Printers|InkjetPrinters\":\"computers\",\"Computers&Accessories|Tablets\":\"computers\",\"Computers&Accessories|Accessories&Peripherals|LaptopAccessories|NotebookComputerStands\":\"computers\",\"Computers&Accessories|Accessories&Peripherals|PCGamingPeripherals|Gamepads\":\"computers\",\"Computers&Accessories|Accessories&Peripherals|PCGamingPeripherals|GamingKeyboards\":\"computers\",\"Computers&Accessories|Accessories&Peripherals|PCGamingPeripherals|GamingMice\":\"computers\",\"Computers&Accessories|Accessories&Peripherals|PCGamingPeripherals|Headsets\":\"computers\",\"Computers&Accessories|Accessories&Peripherals|TabletAccessories|Bags,Cases&Sleeves|Cases\":\"computers\",\"Computers&Accessories|Accessories&Peripherals|TabletAccessories|ScreenProtectors\":\"computers\",\"Computers&Accessories|Accessories&Peripherals|TabletAccessories|Stands\":\"computers\",\"Computers&Accessories|Accessories&Peripherals|USBHubs\":\"computers\",\"Computers&Accessories|Accessories&Peripherals|UninterruptedPowerSupplies\":\"computers\",\"Computers&Accessories|Components|Memory\":\"computers\",\"Computers&Accessories|Components|Memory\":\"computers\",\"Computers&Accessories|Accessories&Peripherals|USBGadgets|Lamps\":\"computers\",\"computer\":\"computers\"}})\n"
   ]
  },
  {
   "cell_type": "code",
   "execution_count": 14,
   "id": "5ae13493",
   "metadata": {},
   "outputs": [],
   "source": [
    "r2=r1.replace({\"category\":{\"Electronics|Accessories|MemoryCards|MicroSD\":\"electronic\",\"Electronics|Accessories|MemoryCards|SecureDigitalCards\":\"electronic\",\"Electronics|Cameras&Photography|Accessories|Batteries&Chargers|BatteryChargers\":\"electronic\",\"Electronics|Cameras&Photography|Accessories|Cleaners|CleaningKits\":\"electronic\",\"Electronics|Cameras&Photography|Accessories|Film\":\"electronic\",\"\":\"electronic\",\"Electronics|Cameras&Photography|Accessories|PhotoStudio&Lighting|PhotoBackgroundAccessories|BackgroundSupports\":\"electronic\",\"Electronics|Cameras&Photography|Accessories|Tripods&Monopods|CompleteTripodUnits\":\"electronic\",\"Electronics|Cameras&Photography|Accessories|Tripods&Monopods|Tabletop&TravelTripods\":\"electronic\",\"Electronics|Cameras&Photography|Accessories|Tripods&Monopods|TripodLegs\":\"electronic\",\"Electronics|Cameras&Photography|Flashes|Macro&RinglightFlashes\":\"electronic\",\"Electronics|Cameras&Photography|SecurityCameras|DomeCameras\":\"electronic\",\"Electronics|Cameras&Photography|VideoCameras\":\"electronic\",\"Electronics|GeneralPurposeBatteries&BatteryChargers\":\"electronic\",\"Electronics|GeneralPurposeBatteries&BatteryChargers|DisposableBatteries\":\"electronic\",\"Electronics|GeneralPurposeBatteries&BatteryChargers|RechargeableBatteries\":\"electronic\",\"Electronics|Headphones,Earbuds&Accessories|Adapters\":\"electronic\",\"Electronics|Headphones,Earbuds&Accessories|Cases\":\"electronic\",\"Electronics|Headphones,Earbuds&Accessories|Earpads\":\"electronic\",\"Electronics|Headphones,Earbuds&Accessories|Headphones|In-Ear\":\"electronic\",\"Electronics|Headphones,Earbuds&Accessories|Headphones|On-Ear\":\"electronic\",\"Electronics|Headphones,Earbuds&Accessories|Headphones|Over-Ear\":\"electronic\",\"Electronics|HomeAudio|Accessories|Adapters\":\"electronic\",\"Electronics|HomeAudio|Accessories|SpeakerAccessories|Mounts\":\"electronic\",\"Electronics|HomeAudio|MediaStreamingDevices|StreamingClients\":\"electronic\",\"Electronics|HomeAudio|Speakers|BluetoothSpeakers\":\"electronic\",\"Electronics|HomeAudio|Speakers|MultimediaSpeakerSystems\":\"electronic\",\"Electronics|HomeAudio|Speakers|OutdoorSpeakers\":\"electronic\",\"Electronics|HomeAudio|Speakers|SoundbarSpeakers\":\"electronic\",\"Electronics|HomeAudio|Speakers|TowerSpeakers\":\"electronic\",\"Electronics|HomeTheater,TV&Video|AVReceivers&Amplifiers\":\"electronic\",\"Electronics|HomeTheater,TV&Video|Accessories|3DGlasses\":\"electronic\",\"Electronics|HomeTheater,TV&Video|Accessories|Cables|HDMICables\":\"electronic\",\"Electronics|HomeTheater,TV&Video|Accessories|Cables|OpticalCables\":\"electronic\",\"Electronics|HomeTheater,TV&Video|Accessories|Cables|RCACables\":\"electronic\",\"Electronics|HomeTheater,TV&Video|Accessories|Cables|SpeakerCables\":\"electronic\",\"Electronics|HomeTheater,TV&Video|Accessories|RemoteControls\":\"electronic\",\"Electronics|HomeTheater,TV&Video|Accessories|TVMounts,Stands&Turntables|TVWall&CeilingMounts\":\"electronic\",\"Electronics|HomeTheater,TV&Video|Projectors\":\"electronic\",\"Electronics|HomeTheater,TV&Video|SatelliteEquipment|SatelliteReceivers\":\"electronic\",\"Electronics|HomeTheater,TV&Video|Televisions|SmartTelevisions\":\"electronic\",\"Electronics|HomeTheater,TV&Video|Televisions|StandardTelevisions\":\"electronic\",\"Electronics|Mobiles&Accessories|MobileAccessories|AutomobileAccessories|Cradles\":\"electronic\",\"Electronics|Mobiles&Accessories|MobileAccessories|Cables&Adapters|OTGAdapters\":\"electronic\",\"Electronics|Mobiles&Accessories|MobileAccessories|Cases&Covers|BasicCases\":\"electronic\",\"Electronics|Mobiles&Accessories|MobileAccessories|Chargers|AutomobileChargers\":\"electronic\",\"Electronics|Mobiles&Accessories|MobileAccessories|Chargers|PowerBanks\":\"electronic\",\"Electronics|Mobiles&Accessories|MobileAccessories|Chargers|WallChargers\":\"electronic\",\"Electronics|Mobiles&Accessories|MobileAccessories|Décor\":\"electronic\",\"Electronics|Mobiles&Accessories|MobileAccessories|Décor|PhoneCharms\":\"electronic\",\"Electronics|Mobiles&Accessories|MobileAccessories|Maintenance,Upkeep&Repairs|ScreenProtectors\":\"electronic\",\"Electronics|Mobiles&Accessories|MobileAccessories|Mounts|Bedstand&DeskMounts\":\"electronic\",\"Electronics|Mobiles&Accessories|MobileAccessories|Mounts|HandlebarMounts\":\"electronic\",\"Electronics|Mobiles&Accessories|MobileAccessories|Mounts|Shower&WallMounts\":\"electronic\",\"Electronics|Mobiles&Accessories|MobileAccessories|Photo&VideoAccessories|Flashes&SelfieLights|SelfieLights\":\"electronic\",\"Electronics|Mobiles&Accessories|MobileAccessories|Photo&VideoAccessories|SelfieSticks\":\"electronic\",\"Electronics|Mobiles&Accessories|MobileAccessories|Photo&VideoAccessories|Tripods\":\"electronic\",\"Electronics|Mobiles&Accessories|MobileAccessories|Stands\":\"electronic\",\"Electronics|Mobiles&Accessories|MobileAccessories|StylusPens\":\"electronic\",\"Electronics|Mobiles&Accessories|Smartphones&BasicMobiles|BasicMobiles\":\"electronic\",\"Electronics|Mobiles&Accessories|Smartphones&BasicMobiles|Smartphones\":\"electronic\",\"Electronics|PowerAccessories|SurgeProtectors\":\"electronic\",\"Electronics|WearableTechnology|SmartWatches\":\"electronic\"}})"
   ]
  },
  {
   "cell_type": "code",
   "execution_count": 15,
   "id": "d4a45e09",
   "metadata": {},
   "outputs": [],
   "source": [
    "r3=r2.replace({\"category\":{\"OfficeProducts|OfficeElectronics|Calculators|Basic\":\"office\",\"OfficeProducts|OfficeElectronics|Calculators|Financial&Business\":\"office\",\"OfficeProducts|OfficeElectronics|Calculators|Scientific\":\"office\",\"OfficeProducts|OfficePaperProducts|Paper|Copy&PrintingPaper|ColouredPaper\":\"office\",\"OfficeProducts|OfficePaperProducts|Paper|Stationery|Notebooks,WritingPads&Diaries\":\"office\",\"OfficeProducts|OfficePaperProducts|Paper|Stationery|Notebooks,WritingPads&Diaries|CompositionNotebooks\":\"office\",\"OfficeProducts|OfficePaperProducts|Paper|Stationery|Notebooks,WritingPads&Diaries|Notepads&MemoBooks\":\"office\",\"OfficeProducts|OfficePaperProducts|Paper|Stationery|Notebooks,WritingPads&Diaries|WireboundNotebooks\":\"office\",\"OfficeProducts|OfficePaperProducts|Paper|Stationery|Pens,Pencils&WritingSupplies|Pens&Refills|BottledInk\":\"office\",\"OfficeProducts|OfficePaperProducts|Paper|Stationery|Pens,Pencils&WritingSupplies|Pens&Refills|FountainPens\":\"office\",\"OfficeProducts|OfficePaperProducts|Paper|Stationery|Pens,Pencils&WritingSupplies|Pens&Refills|GelInkRollerballPens\":\"office\",\"OfficeProducts|OfficePaperProducts|Paper|Stationery|Pens,Pencils&WritingSupplies|Pens&Refills|LiquidInkRollerballPens\":\"office\",\"OfficeProducts|OfficePaperProducts|Paper|Stationery|Pens,Pencils&WritingSupplies|Pens&Refills|RetractableBallpointPens\":\"office\",\"OfficeProducts|OfficePaperProducts|Paper|Stationery|Pens,Pencils&WritingSupplies|Pens&Refills|StickBallpointPens\":\"office\",\"Toys&Games|Arts&Crafts|Drawing&PaintingSupplies|ColouringPens&Markers\":\"others\",\"car\":\"others\",\"MusicalInstruments|Microphones|Condenser\":\"others\"}})"
   ]
  },
  {
   "cell_type": "code",
   "execution_count": 16,
   "id": "991f4e94",
   "metadata": {},
   "outputs": [],
   "source": [
    "r4=r3.replace({\"category\":{\"Health&PersonalCare|HomeMedicalSupplies&Equipment|HealthMonitors|WeighingScales|DigitalBathroomScales\":\"home\",\"Home&Kitchen|CraftMaterials|DrawingMaterials|DrawingMedia|Pencils|WoodenPencils\":\"home\",\"Home&Kitchen|CraftMaterials|DrawingMaterials|DrawingMedia|Pens\":\"home\",\"Home&Kitchen|CraftMaterials|PaintingMaterials\":\"home\",\"Home&Kitchen|CraftMaterials|PaintingMaterials|Paints\":\"home\",\"Home&Kitchen|CraftMaterials|Scrapbooking|Tape\":\"home\",\"Home&Kitchen|Heating,Cooling&AirQuality|AirConditioners|Split-SystemAirConditioners\":\"home\",\"Home&Kitchen|Heating,Cooling&AirQuality|AirPurifiers|HEPAAirPurifiers\":\"home\",\"Home&Kitchen|Heating,Cooling&AirQuality|Fans|CeilingFans\":\"home\",\"Home&Kitchen|Heating,Cooling&AirQuality|Fans|ExhaustFans\":\"home\",\"Home&Kitchen|Heating,Cooling&AirQuality|Fans|PedestalFans\":\"home\",\"Home&Kitchen|Heating,Cooling&AirQuality|Fans|TableFans\":\"home\",\"Home&Kitchen|Heating,Cooling&AirQuality|Humidifiers\":\"home\",\"Home&Kitchen|Heating,Cooling&AirQuality|Parts&Accessories|FanParts&Accessories\":\"home\",\"Home&Kitchen|Heating,Cooling&AirQuality|RoomHeaters\":\"home\",\"Home&Kitchen|Heating,Cooling&AirQuality|RoomHeaters|ElectricHeaters\":\"home\",\"Home&Kitchen|Heating,Cooling&AirQuality|RoomHeaters|FanHeaters\":\"home\",\"Home&Kitchen|Heating,Cooling&AirQuality|RoomHeaters|HalogenHeaters\":\"home\",\"Home&Kitchen|Heating,Cooling&AirQuality|RoomHeaters|HeatConvectors\":\"home\",\"Home&Kitchen|Heating,Cooling&AirQuality|WaterHeaters&Geysers|ImmersionRods\":\"home\",\"Home&Kitchen|Heating,Cooling&AirQuality|WaterHeaters&Geysers|InstantWaterHeaters\":\"home\",\"Home&Kitchen|Heating,Cooling&AirQuality|WaterHeaters&Geysers|StorageWaterHeaters\":\"home\",\"Home&Kitchen|HomeStorage&Organization|LaundryOrganization|IroningAccessories|SprayBottles\":\"home\",\"Home&Kitchen|HomeStorage&Organization|LaundryOrganization|LaundryBags\":\"home\",\"Home&Kitchen|HomeStorage&Organization|LaundryOrganization|LaundryBaskets\":\"home\",\"Home&Kitchen|Kitchen&Dining|KitchenTools|ManualChoppers&Chippers|Choppers\":\"home\",\"Home&Kitchen|Kitchen&HomeAppliances|Coffee,Tea&Espresso|CoffeeGrinders|ElectricGrinders\":\"home\",\"Home&Kitchen|Kitchen&HomeAppliances|Coffee,Tea&Espresso|CoffeeMakerAccessories|MeasuringSpoons\":\"home\",\"Home&Kitchen|Kitchen&HomeAppliances|Coffee,Tea&Espresso|CoffeePresses\":\"home\",\"Home&Kitchen|Kitchen&HomeAppliances|Coffee,Tea&Espresso|DripCoffeeMachines\":\"home\",\"Home&Kitchen|Kitchen&HomeAppliances|Coffee,Tea&Espresso|EspressoMachines\":\"home\",\"Home&Kitchen|Kitchen&HomeAppliances|Coffee,Tea&Espresso|MilkFrothers\":\"home\",\"Home&Kitchen|Kitchen&HomeAppliances|Coffee,Tea&Espresso|StovetopEspressoPots\":\"home\",\"Home&Kitchen|Kitchen&HomeAppliances|SewingMachines&Accessories|Sewing&EmbroideryMachines\":\"home\",\"Home&Kitchen|Kitchen&HomeAppliances|SmallKitchenAppliances\":\"home\",\"Home&Kitchen|Kitchen&HomeAppliances|SmallKitchenAppliances|DeepFatFryers|AirFryers\":\"home\",\"Home&Kitchen|Kitchen&HomeAppliances|SmallKitchenAppliances|DigitalKitchenScales\":\"home\",\"Home&Kitchen|Kitchen&HomeAppliances|SmallKitchenAppliances|DigitalKitchenScales\":\"home\",\"Home&Kitchen|Kitchen&HomeAppliances|SmallKitchenAppliances|DigitalKitchenScales|DigitalScales\":\"home\",\"Home&Kitchen|Kitchen&HomeAppliances|SmallKitchenAppliances|EggBoilers\":\"home\",\"Home&Kitchen|Kitchen&HomeAppliances|SmallKitchenAppliances|HandBlenders\":\"home\",\"Home&Kitchen|Kitchen&HomeAppliances|SmallKitchenAppliances|HandMixers\":\"home\",\"Home&Kitchen|Kitchen&HomeAppliances|SmallKitchenAppliances|InductionCooktop\":\"home\",\"Home&Kitchen|Kitchen&HomeAppliances|SmallKitchenAppliances|JuicerMixerGrinders\":\"home\",\"Home&Kitchen|Kitchen&HomeAppliances|SmallKitchenAppliances|Juicers\":\"home\",\"Home&Kitchen|Kitchen&HomeAppliances|SmallKitchenAppliances|Juicers|ColdPressJuicers\":\"home\",\"Home&Kitchen|Kitchen&HomeAppliances|SmallKitchenAppliances|Kettles&HotWaterDispensers|ElectricKettles\":\"home\",\"Home&Kitchen|Kitchen&HomeAppliances|SmallKitchenAppliances|Kettles&HotWaterDispensers|Kettle&ToasterSets\":\"home\",\"Home&Kitchen|Kitchen&HomeAppliances|SmallKitchenAppliances|Mills&Grinders|WetGrinders\":\"home\",\"Home&Kitchen|Kitchen&HomeAppliances|SmallKitchenAppliances|MiniFoodProcessors&Choppers\":\"home\",\"Home&Kitchen|Kitchen&HomeAppliances|SmallKitchenAppliances|MixerGrinders\":\"home\",\"Home&Kitchen|Kitchen&HomeAppliances|SmallKitchenAppliances|OvenToasterGrills\":\"home\",\"Home&Kitchen|Kitchen&HomeAppliances|SmallKitchenAppliances|Pop-upToasters\":\"home\",\"Home&Kitchen|Kitchen&HomeAppliances|SmallKitchenAppliances|Rice&PastaCookers\":\"home\",\"Home&Kitchen|Kitchen&HomeAppliances|SmallKitchenAppliances|RotiMakers\":\"home\",\"Home&Kitchen|Kitchen&HomeAppliances|SmallKitchenAppliances|SandwichMakers\":\"home\",\"Home&Kitchen|Kitchen&HomeAppliances|SmallKitchenAppliances|SmallApplianceParts&Accessories\":\"home\",\"Home&Kitchen|Kitchen&HomeAppliances|SmallKitchenAppliances|SmallApplianceParts&Accessories|StandMixerAccessories\":\"home\",\"Home&Kitchen|Kitchen&HomeAppliances|SmallKitchenAppliances|StandMixers\":\"home\",\"Home&Kitchen|Kitchen&HomeAppliances|SmallKitchenAppliances|VacuumSealers\":\"home\",\"Home&Kitchen|Kitchen&HomeAppliances|SmallKitchenAppliances|WaffleMakers&Irons\":\"home\",\"Home&Kitchen|Kitchen&HomeAppliances|SmallKitchenAppliances|YogurtMakers\":\"home\",\"Home&Kitchen|Kitchen&HomeAppliances|Vacuum,Cleaning&Ironing|Irons,Steamers&Accessories|Irons|DryIrons\":\"home\",\"Home&Kitchen|Kitchen&HomeAppliances|Vacuum,Cleaning&Ironing|Irons,Steamers&Accessories|Irons|SteamIrons\":\"home\",\"Home&Kitchen|Kitchen&HomeAppliances|Vacuum,Cleaning&Ironing|Irons,Steamers&Accessories|LintShavers\":\"home\",\"Home&Kitchen|Kitchen&HomeAppliances|Vacuum,Cleaning&Ironing|PressureWashers,Steam&WindowCleaners\":\"home\",\"Home&Kitchen|Kitchen&HomeAppliances|Vacuum,Cleaning&Ironing|Vacuums&FloorCare|VacuumAccessories|VacuumBags|HandheldBags\":\"home\",\"Home&Kitchen|Kitchen&HomeAppliances|Vacuum,Cleaning&Ironing|Vacuums&FloorCare|Vacuums|CanisterVacuums\":\"home\",\"Home&Kitchen|Kitchen&HomeAppliances|Vacuum,Cleaning&Ironing|Vacuums&FloorCare|Vacuums|HandheldVacuums\":\"home\",\"Home&Kitchen|Kitchen&HomeAppliances|Vacuum,Cleaning&Ironing|Vacuums&FloorCare|Vacuums|RoboticVacuums\":\"home\",\"Home&Kitchen|Kitchen&HomeAppliances|Vacuum,Cleaning&Ironing|Vacuums&FloorCare|Vacuums|Wet-DryVacuums\":\"home\",\"Home&Kitchen|Kitchen&HomeAppliances|WaterPurifiers&Accessories|WaterCartridges\":\"home\",\"Home&Kitchen|Kitchen&HomeAppliances|WaterPurifiers&Accessories|WaterFilters&Purifiers\":\"home\",\"Home&Kitchen|Kitchen&HomeAppliances|WaterPurifiers&Accessories|WaterPurifierAccessories\":\"home\",\"HomeImprovement|Electrical|Adapters&Multi-Outlets\":\"home\",\"HomeImprovement|Electrical|CordManagement\":\"home\"}})"
   ]
  },
  {
   "cell_type": "code",
   "execution_count": null,
   "id": "90d70fcf",
   "metadata": {},
   "outputs": [],
   "source": []
  },
  {
   "cell_type": "code",
   "execution_count": 17,
   "id": "67ae535c",
   "metadata": {},
   "outputs": [
    {
     "data": {
      "text/html": [
       "<div>\n",
       "<style scoped>\n",
       "    .dataframe tbody tr th:only-of-type {\n",
       "        vertical-align: middle;\n",
       "    }\n",
       "\n",
       "    .dataframe tbody tr th {\n",
       "        vertical-align: top;\n",
       "    }\n",
       "\n",
       "    .dataframe thead tr th {\n",
       "        text-align: left;\n",
       "    }\n",
       "\n",
       "    .dataframe thead tr:last-of-type th {\n",
       "        text-align: right;\n",
       "    }\n",
       "</style>\n",
       "<table border=\"1\" class=\"dataframe\">\n",
       "  <thead>\n",
       "    <tr>\n",
       "      <th></th>\n",
       "      <th colspan=\"8\" halign=\"left\">discounted_price</th>\n",
       "      <th colspan=\"8\" halign=\"left\">actual_price</th>\n",
       "      <th colspan=\"8\" halign=\"left\">discount_percentage</th>\n",
       "      <th colspan=\"8\" halign=\"left\">rating</th>\n",
       "      <th colspan=\"8\" halign=\"left\">rating_count</th>\n",
       "    </tr>\n",
       "    <tr>\n",
       "      <th></th>\n",
       "      <th>count</th>\n",
       "      <th>mean</th>\n",
       "      <th>std</th>\n",
       "      <th>min</th>\n",
       "      <th>25%</th>\n",
       "      <th>50%</th>\n",
       "      <th>75%</th>\n",
       "      <th>max</th>\n",
       "      <th>count</th>\n",
       "      <th>mean</th>\n",
       "      <th>std</th>\n",
       "      <th>min</th>\n",
       "      <th>25%</th>\n",
       "      <th>50%</th>\n",
       "      <th>75%</th>\n",
       "      <th>max</th>\n",
       "      <th>count</th>\n",
       "      <th>mean</th>\n",
       "      <th>std</th>\n",
       "      <th>min</th>\n",
       "      <th>25%</th>\n",
       "      <th>50%</th>\n",
       "      <th>75%</th>\n",
       "      <th>max</th>\n",
       "      <th>count</th>\n",
       "      <th>mean</th>\n",
       "      <th>std</th>\n",
       "      <th>min</th>\n",
       "      <th>25%</th>\n",
       "      <th>50%</th>\n",
       "      <th>75%</th>\n",
       "      <th>max</th>\n",
       "      <th>count</th>\n",
       "      <th>mean</th>\n",
       "      <th>std</th>\n",
       "      <th>min</th>\n",
       "      <th>25%</th>\n",
       "      <th>50%</th>\n",
       "      <th>75%</th>\n",
       "      <th>max</th>\n",
       "    </tr>\n",
       "    <tr>\n",
       "      <th>category</th>\n",
       "      <th></th>\n",
       "      <th></th>\n",
       "      <th></th>\n",
       "      <th></th>\n",
       "      <th></th>\n",
       "      <th></th>\n",
       "      <th></th>\n",
       "      <th></th>\n",
       "      <th></th>\n",
       "      <th></th>\n",
       "      <th></th>\n",
       "      <th></th>\n",
       "      <th></th>\n",
       "      <th></th>\n",
       "      <th></th>\n",
       "      <th></th>\n",
       "      <th></th>\n",
       "      <th></th>\n",
       "      <th></th>\n",
       "      <th></th>\n",
       "      <th></th>\n",
       "      <th></th>\n",
       "      <th></th>\n",
       "      <th></th>\n",
       "      <th></th>\n",
       "      <th></th>\n",
       "      <th></th>\n",
       "      <th></th>\n",
       "      <th></th>\n",
       "      <th></th>\n",
       "      <th></th>\n",
       "      <th></th>\n",
       "      <th></th>\n",
       "      <th></th>\n",
       "      <th></th>\n",
       "      <th></th>\n",
       "      <th></th>\n",
       "      <th></th>\n",
       "      <th></th>\n",
       "      <th></th>\n",
       "    </tr>\n",
       "  </thead>\n",
       "  <tbody>\n",
       "    <tr>\n",
       "      <th>computers</th>\n",
       "      <td>453.0</td>\n",
       "      <td>1335.600442</td>\n",
       "      <td>5344.305906</td>\n",
       "      <td>39.0</td>\n",
       "      <td>210.0</td>\n",
       "      <td>354.0</td>\n",
       "      <td>799.00</td>\n",
       "      <td>84899.0</td>\n",
       "      <td>453.0</td>\n",
       "      <td>2921.949227</td>\n",
       "      <td>21078.568291</td>\n",
       "      <td>39.0</td>\n",
       "      <td>599.00</td>\n",
       "      <td>999.0</td>\n",
       "      <td>1795.00</td>\n",
       "      <td>433296.0</td>\n",
       "      <td>453.0</td>\n",
       "      <td>54.024283</td>\n",
       "      <td>19.833975</td>\n",
       "      <td>0.0</td>\n",
       "      <td>42.0</td>\n",
       "      <td>58.0</td>\n",
       "      <td>67.0</td>\n",
       "      <td>94.0</td>\n",
       "      <td>453.0</td>\n",
       "      <td>41.549669</td>\n",
       "      <td>2.610451</td>\n",
       "      <td>30.0</td>\n",
       "      <td>40.0</td>\n",
       "      <td>42.0</td>\n",
       "      <td>43.00</td>\n",
       "      <td>50.0</td>\n",
       "      <td>453.0</td>\n",
       "      <td>17061.145695</td>\n",
       "      <td>30088.666961</td>\n",
       "      <td>5.0</td>\n",
       "      <td>1528.00</td>\n",
       "      <td>7732.0</td>\n",
       "      <td>20053.0</td>\n",
       "      <td>253105.0</td>\n",
       "    </tr>\n",
       "    <tr>\n",
       "      <th>electronic</th>\n",
       "      <td>526.0</td>\n",
       "      <td>5965.887833</td>\n",
       "      <td>10279.670967</td>\n",
       "      <td>79.0</td>\n",
       "      <td>399.0</td>\n",
       "      <td>1399.0</td>\n",
       "      <td>7224.00</td>\n",
       "      <td>77990.0</td>\n",
       "      <td>526.0</td>\n",
       "      <td>10127.311787</td>\n",
       "      <td>15495.772671</td>\n",
       "      <td>171.0</td>\n",
       "      <td>999.00</td>\n",
       "      <td>3199.5</td>\n",
       "      <td>12874.00</td>\n",
       "      <td>139900.0</td>\n",
       "      <td>526.0</td>\n",
       "      <td>50.828897</td>\n",
       "      <td>22.028665</td>\n",
       "      <td>0.0</td>\n",
       "      <td>32.0</td>\n",
       "      <td>54.0</td>\n",
       "      <td>69.0</td>\n",
       "      <td>91.0</td>\n",
       "      <td>526.0</td>\n",
       "      <td>40.817490</td>\n",
       "      <td>2.696198</td>\n",
       "      <td>28.0</td>\n",
       "      <td>39.0</td>\n",
       "      <td>41.0</td>\n",
       "      <td>43.00</td>\n",
       "      <td>47.0</td>\n",
       "      <td>526.0</td>\n",
       "      <td>29997.809886</td>\n",
       "      <td>61729.576162</td>\n",
       "      <td>7.0</td>\n",
       "      <td>1780.75</td>\n",
       "      <td>10689.0</td>\n",
       "      <td>27970.0</td>\n",
       "      <td>426973.0</td>\n",
       "    </tr>\n",
       "    <tr>\n",
       "      <th>home</th>\n",
       "      <td>451.0</td>\n",
       "      <td>5700.363636</td>\n",
       "      <td>31284.094988</td>\n",
       "      <td>79.0</td>\n",
       "      <td>620.5</td>\n",
       "      <td>1199.0</td>\n",
       "      <td>2699.00</td>\n",
       "      <td>365766.0</td>\n",
       "      <td>451.0</td>\n",
       "      <td>4142.144124</td>\n",
       "      <td>6783.520867</td>\n",
       "      <td>79.0</td>\n",
       "      <td>1094.50</td>\n",
       "      <td>1999.0</td>\n",
       "      <td>4295.00</td>\n",
       "      <td>75990.0</td>\n",
       "      <td>451.0</td>\n",
       "      <td>40.226164</td>\n",
       "      <td>18.433118</td>\n",
       "      <td>0.0</td>\n",
       "      <td>28.0</td>\n",
       "      <td>42.0</td>\n",
       "      <td>53.0</td>\n",
       "      <td>90.0</td>\n",
       "      <td>451.0</td>\n",
       "      <td>36.084257</td>\n",
       "      <td>12.398996</td>\n",
       "      <td>2.0</td>\n",
       "      <td>37.5</td>\n",
       "      <td>41.0</td>\n",
       "      <td>42.00</td>\n",
       "      <td>48.0</td>\n",
       "      <td>451.0</td>\n",
       "      <td>6659.197339</td>\n",
       "      <td>16384.856492</td>\n",
       "      <td>2.0</td>\n",
       "      <td>553.50</td>\n",
       "      <td>2326.0</td>\n",
       "      <td>7235.0</td>\n",
       "      <td>270563.0</td>\n",
       "    </tr>\n",
       "    <tr>\n",
       "      <th>office</th>\n",
       "      <td>31.0</td>\n",
       "      <td>301.580645</td>\n",
       "      <td>317.288699</td>\n",
       "      <td>50.0</td>\n",
       "      <td>117.0</td>\n",
       "      <td>178.0</td>\n",
       "      <td>380.50</td>\n",
       "      <td>1399.0</td>\n",
       "      <td>31.0</td>\n",
       "      <td>397.193548</td>\n",
       "      <td>552.781839</td>\n",
       "      <td>50.0</td>\n",
       "      <td>120.00</td>\n",
       "      <td>210.0</td>\n",
       "      <td>445.00</td>\n",
       "      <td>2999.0</td>\n",
       "      <td>31.0</td>\n",
       "      <td>12.354839</td>\n",
       "      <td>18.210891</td>\n",
       "      <td>0.0</td>\n",
       "      <td>0.0</td>\n",
       "      <td>5.0</td>\n",
       "      <td>17.5</td>\n",
       "      <td>75.0</td>\n",
       "      <td>31.0</td>\n",
       "      <td>43.096774</td>\n",
       "      <td>1.491193</td>\n",
       "      <td>40.0</td>\n",
       "      <td>42.0</td>\n",
       "      <td>43.0</td>\n",
       "      <td>44.00</td>\n",
       "      <td>45.0</td>\n",
       "      <td>31.0</td>\n",
       "      <td>4828.225806</td>\n",
       "      <td>2853.095766</td>\n",
       "      <td>388.0</td>\n",
       "      <td>2844.50</td>\n",
       "      <td>4426.0</td>\n",
       "      <td>6368.0</td>\n",
       "      <td>12179.0</td>\n",
       "    </tr>\n",
       "    <tr>\n",
       "      <th>others</th>\n",
       "      <td>4.0</td>\n",
       "      <td>941.250000</td>\n",
       "      <td>968.659340</td>\n",
       "      <td>150.0</td>\n",
       "      <td>396.0</td>\n",
       "      <td>638.0</td>\n",
       "      <td>1183.25</td>\n",
       "      <td>2339.0</td>\n",
       "      <td>4.0</td>\n",
       "      <td>1711.000000</td>\n",
       "      <td>1710.851835</td>\n",
       "      <td>150.0</td>\n",
       "      <td>561.75</td>\n",
       "      <td>1347.0</td>\n",
       "      <td>2496.25</td>\n",
       "      <td>4000.0</td>\n",
       "      <td>4.0</td>\n",
       "      <td>33.500000</td>\n",
       "      <td>25.159491</td>\n",
       "      <td>0.0</td>\n",
       "      <td>24.0</td>\n",
       "      <td>37.0</td>\n",
       "      <td>46.5</td>\n",
       "      <td>60.0</td>\n",
       "      <td>4.0</td>\n",
       "      <td>39.750000</td>\n",
       "      <td>2.362908</td>\n",
       "      <td>38.0</td>\n",
       "      <td>38.0</td>\n",
       "      <td>39.0</td>\n",
       "      <td>40.75</td>\n",
       "      <td>43.0</td>\n",
       "      <td>4.0</td>\n",
       "      <td>26466.750000</td>\n",
       "      <td>29294.872195</td>\n",
       "      <td>1118.0</td>\n",
       "      <td>12179.75</td>\n",
       "      <td>18042.5</td>\n",
       "      <td>32329.5</td>\n",
       "      <td>68664.0</td>\n",
       "    </tr>\n",
       "  </tbody>\n",
       "</table>\n",
       "</div>"
      ],
      "text/plain": [
       "           discounted_price                                                   \\\n",
       "                      count         mean           std    min    25%     50%   \n",
       "category                                                                       \n",
       "computers             453.0  1335.600442   5344.305906   39.0  210.0   354.0   \n",
       "electronic            526.0  5965.887833  10279.670967   79.0  399.0  1399.0   \n",
       "home                  451.0  5700.363636  31284.094988   79.0  620.5  1199.0   \n",
       "office                 31.0   301.580645    317.288699   50.0  117.0   178.0   \n",
       "others                  4.0   941.250000    968.659340  150.0  396.0   638.0   \n",
       "\n",
       "                              actual_price                                     \\\n",
       "                75%       max        count          mean           std    min   \n",
       "category                                                                        \n",
       "computers    799.00   84899.0        453.0   2921.949227  21078.568291   39.0   \n",
       "electronic  7224.00   77990.0        526.0  10127.311787  15495.772671  171.0   \n",
       "home        2699.00  365766.0        451.0   4142.144124   6783.520867   79.0   \n",
       "office       380.50    1399.0         31.0    397.193548    552.781839   50.0   \n",
       "others      1183.25    2339.0          4.0   1711.000000   1710.851835  150.0   \n",
       "\n",
       "                                                discount_percentage  \\\n",
       "                25%     50%       75%       max               count   \n",
       "category                                                              \n",
       "computers    599.00   999.0   1795.00  433296.0               453.0   \n",
       "electronic   999.00  3199.5  12874.00  139900.0               526.0   \n",
       "home        1094.50  1999.0   4295.00   75990.0               451.0   \n",
       "office       120.00   210.0    445.00    2999.0                31.0   \n",
       "others       561.75  1347.0   2496.25    4000.0                 4.0   \n",
       "\n",
       "                                                              rating  \\\n",
       "                 mean        std  min   25%   50%   75%   max  count   \n",
       "category                                                               \n",
       "computers   54.024283  19.833975  0.0  42.0  58.0  67.0  94.0  453.0   \n",
       "electronic  50.828897  22.028665  0.0  32.0  54.0  69.0  91.0  526.0   \n",
       "home        40.226164  18.433118  0.0  28.0  42.0  53.0  90.0  451.0   \n",
       "office      12.354839  18.210891  0.0   0.0   5.0  17.5  75.0   31.0   \n",
       "others      33.500000  25.159491  0.0  24.0  37.0  46.5  60.0    4.0   \n",
       "\n",
       "                                                                rating_count  \\\n",
       "                 mean        std   min   25%   50%    75%   max        count   \n",
       "category                                                                       \n",
       "computers   41.549669   2.610451  30.0  40.0  42.0  43.00  50.0        453.0   \n",
       "electronic  40.817490   2.696198  28.0  39.0  41.0  43.00  47.0        526.0   \n",
       "home        36.084257  12.398996   2.0  37.5  41.0  42.00  48.0        451.0   \n",
       "office      43.096774   1.491193  40.0  42.0  43.0  44.00  45.0         31.0   \n",
       "others      39.750000   2.362908  38.0  38.0  39.0  40.75  43.0          4.0   \n",
       "\n",
       "                                                                            \\\n",
       "                    mean           std     min       25%      50%      75%   \n",
       "category                                                                     \n",
       "computers   17061.145695  30088.666961     5.0   1528.00   7732.0  20053.0   \n",
       "electronic  29997.809886  61729.576162     7.0   1780.75  10689.0  27970.0   \n",
       "home         6659.197339  16384.856492     2.0    553.50   2326.0   7235.0   \n",
       "office       4828.225806   2853.095766   388.0   2844.50   4426.0   6368.0   \n",
       "others      26466.750000  29294.872195  1118.0  12179.75  18042.5  32329.5   \n",
       "\n",
       "                      \n",
       "                 max  \n",
       "category              \n",
       "computers   253105.0  \n",
       "electronic  426973.0  \n",
       "home        270563.0  \n",
       "office       12179.0  \n",
       "others       68664.0  "
      ]
     },
     "execution_count": 17,
     "metadata": {},
     "output_type": "execute_result"
    }
   ],
   "source": [
    "new_a= r4.groupby([\"category\"])\n",
    "new_a.describe()"
   ]
  },
  {
   "cell_type": "markdown",
   "id": "837caea5",
   "metadata": {},
   "source": [
    "### Grouping according to categories"
   ]
  },
  {
   "cell_type": "code",
   "execution_count": 18,
   "id": "10dab2ff",
   "metadata": {},
   "outputs": [],
   "source": [
    "#computer_accesories\n",
    "computers=new_a.get_group('computers')\n",
    "#Electronic_accesories\n",
    "electronics=new_a.get_group('electronic')\n",
    "#Home_appliances\n",
    "home=new_a.get_group('home')\n",
    "\n",
    "\n"
   ]
  },
  {
   "cell_type": "markdown",
   "id": "724112e4",
   "metadata": {},
   "source": [
    "## Finding No.Of Best seller and Top rated Products In Each category\n",
    "\n",
    "### Citeria:\n",
    "####        Best Seller:\n",
    "######                    *The Product should have rating >= 45 and rating_count >= 10000\n",
    "####        Top Rated:\n",
    "######                    *The Product should have rating >= 40 and <=45 rating_count >= 6500\n",
    "######                    *The remaining products with rating >= 45 filtered from best sellers criteria"
   ]
  },
  {
   "cell_type": "markdown",
   "id": "d20b8f82",
   "metadata": {},
   "source": [
    "### Filtering the data accordingly... \n",
    "#### For BestSeller (computer_accesories) "
   ]
  },
  {
   "cell_type": "code",
   "execution_count": 19,
   "id": "a0a9098f",
   "metadata": {},
   "outputs": [],
   "source": [
    "#This contains all computer_accesories rated >= 45\n",
    "computers1=computers[(computers['rating']) >=45]\n",
    "#This contains all computer_accesories with rating >= 40 and rating_count >= 10000\n",
    "computers2=computers1[(computers1['rating_count']) >=10000]"
   ]
  },
  {
   "cell_type": "code",
   "execution_count": 20,
   "id": "ccddb69a",
   "metadata": {},
   "outputs": [
    {
     "name": "stdout",
     "output_type": "stream",
     "text": [
      "21\n"
     ]
    }
   ],
   "source": [
    "x=len(computers1)\n",
    "z=len(computers2)\n",
    "top=x-z\n",
    "print(top)"
   ]
  },
  {
   "cell_type": "markdown",
   "id": "1de97fc7",
   "metadata": {},
   "source": [
    "#### From this the number of best sellers in computer _accesories = 22\n",
    "##### The remaing products will be considered as top rated   ;( 43-22) =21"
   ]
  },
  {
   "cell_type": "markdown",
   "id": "60de8f52",
   "metadata": {},
   "source": [
    "#### For  Toprated (computer_accesories)"
   ]
  },
  {
   "cell_type": "code",
   "execution_count": 21,
   "id": "5ee51385",
   "metadata": {},
   "outputs": [
    {
     "name": "stdout",
     "output_type": "stream",
     "text": [
      "209\n"
     ]
    }
   ],
   "source": [
    "#Stores computer_acessories with rating<45\n",
    "computers3=computers[(computers['rating']) <45]\n",
    "#Stores computer_accesories with ratings>=40 and <45\n",
    "computers4=computers3[(computers3['rating']) >=40]\n",
    "#Stores computer_accesories with ratings>=40 and <45 with rating_count>=6500\n",
    "computers5=computers4[(computers4['rating_count']) >=6500]\n",
    "#total no of top rated products(includes filtered out products from bestseller criteria)\n",
    "count=len(computers5)\n",
    "toprated=count+top\n",
    "print(toprated)"
   ]
  },
  {
   "cell_type": "markdown",
   "id": "bc662ef5",
   "metadata": {},
   "source": [
    "##### Total No of Top rated products in computer_accesories = 209"
   ]
  },
  {
   "cell_type": "markdown",
   "id": "cdb60975",
   "metadata": {},
   "source": [
    "#### For BestSeller (Electronic_Gadgets) "
   ]
  },
  {
   "cell_type": "code",
   "execution_count": 22,
   "id": "d0161568",
   "metadata": {},
   "outputs": [],
   "source": [
    "# This contains all electronic_gadgets rated >= 45\n",
    "electronics1=electronics[(electronics['rating']) >=45]\n",
    "# This contains electronic_gadgets with rating >= 45 and rating_count >= 10000\n",
    "electronics2=electronics1[(electronics1['rating_count']) >=10000]\n",
    "\n"
   ]
  },
  {
   "cell_type": "code",
   "execution_count": 23,
   "id": "34df78c6",
   "metadata": {},
   "outputs": [
    {
     "name": "stdout",
     "output_type": "stream",
     "text": [
      "15\n",
      "no . of best sellers in electronic_gadgets :  9\n"
     ]
    }
   ],
   "source": [
    "x1=len(electronics1)\n",
    "z1=len(electronics2)\n",
    "top1=x1-z1\n",
    "print(top1)\n",
    "print(\"no . of best sellers in electronic_gadgets : \",len(electronics2))\n"
   ]
  },
  {
   "cell_type": "markdown",
   "id": "86f585a6",
   "metadata": {},
   "source": [
    "#### From this the number of best sellers in Electronic_Gadgets = 9\n",
    "##### The remaing products will be considered as top rated   ;( 24-9) =15"
   ]
  },
  {
   "cell_type": "markdown",
   "id": "298113d7",
   "metadata": {},
   "source": [
    "#### For  Toprated (Electronic_Gadgets)"
   ]
  },
  {
   "cell_type": "code",
   "execution_count": 24,
   "id": "088dc2c5",
   "metadata": {},
   "outputs": [
    {
     "name": "stdout",
     "output_type": "stream",
     "text": [
      "257\n"
     ]
    }
   ],
   "source": [
    "#Stores electronic_gadgets with rating<45\n",
    "electronics3=electronics[(electronics['rating']) <45]\n",
    "#Stores electronic_gadgets with ratings>=40 and <45\n",
    "electronics4=electronics3[(electronics3['rating']) >=40]\n",
    "#Stores electronic_gadgets with ratings>=40 and <45 with rating_count>=6500\n",
    "electronics5=electronics4[(electronics4['rating_count']) >=6500]\n",
    "count1=len(electronics5)\n",
    "#total no of top rated products(includes filtered out products from bestseller criteria)\n",
    "toprated1=count1+top1\n",
    "print(toprated1)"
   ]
  },
  {
   "cell_type": "markdown",
   "id": "6cc67274",
   "metadata": {},
   "source": [
    "##### Total No of Top rated products in Electronic_Gadgets = 257"
   ]
  },
  {
   "cell_type": "markdown",
   "id": "cc277ac1",
   "metadata": {},
   "source": [
    " "
   ]
  },
  {
   "cell_type": "markdown",
   "id": "764301e1",
   "metadata": {},
   "source": [
    " "
   ]
  },
  {
   "cell_type": "markdown",
   "id": "e8d23556",
   "metadata": {},
   "source": [
    "#### For BestSeller (Home_Appliances) "
   ]
  },
  {
   "cell_type": "code",
   "execution_count": 25,
   "id": "0357158e",
   "metadata": {},
   "outputs": [],
   "source": [
    "# This contains all home_appliances rated >= 45\n",
    "home1=home[(home['rating']) >=45]\n",
    "# This contains home_appliances with rating >= 45 and rating_count >= 10000\n",
    "home2=home1[(home1['rating_count']) >=10000]\n",
    "\n"
   ]
  },
  {
   "cell_type": "code",
   "execution_count": 26,
   "id": "c211f6a9",
   "metadata": {},
   "outputs": [
    {
     "name": "stdout",
     "output_type": "stream",
     "text": [
      "28\n",
      "no . of best sellers in home_appliances :  2\n"
     ]
    }
   ],
   "source": [
    "x2=len(home1)\n",
    "z2=len(home2)\n",
    "top2=x2-z2\n",
    "print(top2)\n",
    "print(\"no . of best sellers in home_appliances : \",len(home2))\n"
   ]
  },
  {
   "cell_type": "markdown",
   "id": "0a23a6fc",
   "metadata": {},
   "source": [
    "#### From this the number of best sellers in Home_Appliances = 2\n",
    "##### The remaing products will be considered as top rated   ;( 30-2) =28"
   ]
  },
  {
   "cell_type": "markdown",
   "id": "62ffa017",
   "metadata": {},
   "source": [
    " "
   ]
  },
  {
   "cell_type": "markdown",
   "id": "86457a5c",
   "metadata": {},
   "source": [
    "#### For  Toprated (Home_Appliances)"
   ]
  },
  {
   "cell_type": "code",
   "execution_count": 27,
   "id": "d06de6be",
   "metadata": {},
   "outputs": [
    {
     "name": "stdout",
     "output_type": "stream",
     "text": [
      "99\n"
     ]
    }
   ],
   "source": [
    "#Stores electronic_gadgets with rating<45\n",
    "home3=home[(home['rating']) <45]\n",
    "#Stores electronic_gadgets with ratings>=40 and <45\n",
    "home4=home3[(home3['rating']) >=40]\n",
    "#Stores electronic_gadgets with ratings>=40 and <45 with rating_count>=6500\n",
    "home5=home4[(home4['rating_count']) >=6500]\n",
    "count2=len(home5)\n",
    "#total no of top rated products(includes filtered out products from bestseller criteria)\n",
    "toprated2=count2+top2\n",
    "print(toprated2)"
   ]
  },
  {
   "cell_type": "markdown",
   "id": "2c3c3422",
   "metadata": {},
   "source": [
    "##### Total No of Top rated products in Home_Appliances = 99"
   ]
  },
  {
   "cell_type": "markdown",
   "id": "cac6abe8",
   "metadata": {},
   "source": [
    "# "
   ]
  },
  {
   "cell_type": "markdown",
   "id": "869761e1",
   "metadata": {},
   "source": [
    "## Visualizing The obtained data"
   ]
  },
  {
   "cell_type": "markdown",
   "id": "b80e3ea4",
   "metadata": {},
   "source": [
    " "
   ]
  },
  {
   "cell_type": "code",
   "execution_count": 28,
   "id": "de95f50f",
   "metadata": {},
   "outputs": [
    {
     "data": {
      "image/png": "[encoded data removed]",
      "text/plain": [
       "<Figure size 1008x648 with 1 Axes>"
      ]
     },
     "metadata": {},
     "output_type": "display_data"
    }
   ],
   "source": [
    "from matplotlib import pyplot as plt\n",
    "best_sellers=[\"Computer_Accesories\",\"Electronic_Gadgets\",\"Home_Appliances\"]\n",
    "#storing best_sellers value of Each Category\n",
    "best_sell_values=[22,9,2]\n",
    "plt.figure(figsize=(14,9))\n",
    "plt.pie(best_sell_values,labels=best_sellers,startangle=90,explode=[0.05,0,0],shadow=False,colors=['Green','orange','red'],autopct=\"%2.1f%%\")\n",
    "plt.legend(title=\"Best_Sellers\")\n",
    "plt.show()"
   ]
  },
  {
   "cell_type": "code",
   "execution_count": 29,
   "id": "dea583c8",
   "metadata": {},
   "outputs": [
    {
     "data": {
      "image/png": "[encoded data removed]",
      "text/plain": [
       "<Figure size 1008x648 with 1 Axes>"
      ]
     },
     "metadata": {},
     "output_type": "display_data"
    }
   ],
   "source": [
    "from matplotlib import pyplot as plt\n",
    "Top_Rated=[\"Computer_Accesories\",\"Electronic_Gadgets\",\"Home_Appliances\"]\n",
    "#storing top_rated values for each category\n",
    "top_rated_values=[209,257,99]\n",
    "plt.figure(figsize=(14,9))\n",
    "plt.pie(top_rated_values,labels=Top_Rated,startangle=90,explode=[0,0.05,0],shadow=False,colors=['Green','orange','red'],autopct=\"%2.1f%%\")\n",
    "plt.legend(title=\"Top_Rated\")\n",
    "plt.show()"
   ]
  },
  {
   "cell_type": "markdown",
   "id": "cde551d1",
   "metadata": {},
   "source": [
    "### Takeaway:\n",
    " From the above charts its evident that the Home_Appliances category produces less number of Best_Sellers and Top_Rated Products\n",
    " \n",
    " Its also Evident that Computer_Accesories contributes more towards Best_Selling products\n",
    " \n",
    " where as Electronic_Gadgets produces more no.of Top_Rated products a little more compared to Computer_Accesories\n",
    " \n",
    " ###### Note : since there is no info on no_of_products sold per category, the rating_count was partly assumed as no.of products sold while creating the criteria for best_seller and top_rated products"
   ]
  },
  {
   "cell_type": "markdown",
   "id": "1f124fc3",
   "metadata": {},
   "source": [
    " "
   ]
  },
  {
   "cell_type": "markdown",
   "id": "2d3ea347",
   "metadata": {},
   "source": [
    "\n",
    "* Well I just wanted to analyze whether the discount percentage plays a role in the above results...."
   ]
  },
  {
   "cell_type": "markdown",
   "id": "20e7cfcf",
   "metadata": {},
   "source": [
    "#### Analyzing Discount_percentage For Each Category:"
   ]
  },
  {
   "cell_type": "markdown",
   "id": "016774a4",
   "metadata": {},
   "source": [
    "### Computer_Accesories"
   ]
  },
  {
   "cell_type": "code",
   "execution_count": 30,
   "id": "fd245018",
   "metadata": {},
   "outputs": [],
   "source": [
    "#Grouping products with discount_percentage >= 50 \n",
    "computers_discount1=computers[(computers['discount_percentage']) >=50]\n",
    "#Grouping products with discount_percentage >= 60\n",
    "computers_discount2=computers[(computers['discount_percentage']) >=60]"
   ]
  },
  {
   "cell_type": "code",
   "execution_count": 31,
   "id": "dfc50a67",
   "metadata": {},
   "outputs": [
    {
     "name": "stdout",
     "output_type": "stream",
     "text": [
      "discount % >=50 :  303\n",
      "discount % >=60 :  215\n"
     ]
    }
   ],
   "source": [
    "c_d1=len(computers_discount1)\n",
    "c_d2=len(computers_discount2)\n",
    "print(\"discount % >=50 : \",c_d1)\n",
    "print(\"discount % >=60 : \",c_d2)"
   ]
  },
  {
   "cell_type": "markdown",
   "id": "b3223b07",
   "metadata": {},
   "source": [
    "### Electronic_Gadgets"
   ]
  },
  {
   "cell_type": "code",
   "execution_count": 32,
   "id": "ada4eae7",
   "metadata": {},
   "outputs": [],
   "source": [
    "#Grouping products with discount_percentage >= 50 \n",
    "electronics_discount1=electronics[(electronics['discount_percentage']) >=50]\n",
    "#Grouping products with discount_percentage >= 60\n",
    "electronics_discount2=electronics[(electronics['discount_percentage']) >=60]"
   ]
  },
  {
   "cell_type": "code",
   "execution_count": 33,
   "id": "4825266f",
   "metadata": {},
   "outputs": [
    {
     "name": "stdout",
     "output_type": "stream",
     "text": [
      "discount % >=50 :  296\n",
      "discount % >=60 :  221\n"
     ]
    }
   ],
   "source": [
    "e_d1=len(electronics_discount1)\n",
    "e_d2=len(electronics_discount2)\n",
    "print(\"discount % >=50 : \",e_d1)\n",
    "print(\"discount % >=60 : \",e_d2)"
   ]
  },
  {
   "cell_type": "markdown",
   "id": "1fa1780c",
   "metadata": {},
   "source": [
    "### Home_Appliances"
   ]
  },
  {
   "cell_type": "code",
   "execution_count": 34,
   "id": "b0313efa",
   "metadata": {},
   "outputs": [],
   "source": [
    "#Grouping products with discount_percentage >= 50 \n",
    "home_discount1=home[(home['discount_percentage']) >=50]"
   ]
  },
  {
   "cell_type": "code",
   "execution_count": 35,
   "id": "04c2f6b4",
   "metadata": {},
   "outputs": [
    {
     "name": "stdout",
     "output_type": "stream",
     "text": [
      "discount % >=50 :  149\n"
     ]
    }
   ],
   "source": [
    "h_d1=len(home_discount1)\n",
    "print(\"discount % >=50 : \",h_d1)"
   ]
  },
  {
   "cell_type": "markdown",
   "id": "0c9ca1c9",
   "metadata": {},
   "source": [
    "\n",
    "### Takeaways:\n"
   ]
  },
  {
   "cell_type": "markdown",
   "id": "2c0bed5c",
   "metadata": {},
   "source": [
    "\n",
    "\n",
    "* From the data above its clearly evident that home_appliances category has less products on sale with a higher discount_percentage compared to the other two categories\n",
    "* The other categories have more than 200 products on sale with a discount_percentage of over 60%\n",
    "* Where as the Home_appliances category has only 149 products on sale with a discount_percentage of over 50%"
   ]
  },
  {
   "cell_type": "markdown",
   "id": "90bf241e",
   "metadata": {},
   "source": [
    "### Visual Representation:"
   ]
  },
  {
   "cell_type": "markdown",
   "id": "ee4caf9e",
   "metadata": {},
   "source": [
    "##### Discount_percentage > 50%"
   ]
  },
  {
   "cell_type": "code",
   "execution_count": 36,
   "id": "0060a2c3",
   "metadata": {},
   "outputs": [
    {
     "data": {
      "image/png": "[encoded data removed]",
      "text/plain": [
       "<Figure size 936x720 with 1 Axes>"
      ]
     },
     "metadata": {},
     "output_type": "display_data"
    }
   ],
   "source": [
    "from matplotlib import pyplot as plt\n",
    "discount_percentage=[\"Computer_Accesories\",\"Electronic_Gadgets\",\"Home_Appliances\"]\n",
    "sell_values=[303,296,149]\n",
    "plt.figure(figsize=(13,10))\n",
    "plt.pie(sell_values,labels=Top_Rated,startangle=90,explode=[0,0,0.05],shadow=False,colors=['Green','orange','red'],autopct=\"%2.1f%%\")\n",
    "plt.legend(title=\"discount_percentage\")\n",
    "plt.show()"
   ]
  },
  {
   "cell_type": "markdown",
   "id": "180b59f0",
   "metadata": {},
   "source": [
    "# \n",
    "# \n",
    "# \n",
    " "
   ]
  },
  {
   "cell_type": "markdown",
   "id": "815d59d9",
   "metadata": {},
   "source": [
    "###### Discount_percentage >= 60% for (Computer_Appliances and Electronic_Gadgets) vs >=50% for Home_Appliances:\n",
    "## "
   ]
  },
  {
   "cell_type": "code",
   "execution_count": 37,
   "id": "988f0495",
   "metadata": {},
   "outputs": [
    {
     "data": {
      "image/png": "[encoded data removed]",
      "text/plain": [
       "<Figure size 936x720 with 1 Axes>"
      ]
     },
     "metadata": {},
     "output_type": "display_data"
    }
   ],
   "source": [
    "from matplotlib import pyplot as plt\n",
    "discount_percentage=[\"Computer_Accesories\",\"Electronic_Gadgets\",\"Home_Appliances\"]\n",
    "sell_values=[215,221,149]\n",
    "plt.figure(figsize=(13,10))\n",
    "plt.pie(sell_values,labels=Top_Rated,startangle=90,explode=[0,0,0.05],shadow=False,colors=['Green','orange','red'],autopct=\"%2.1f%%\")\n",
    "plt.legend(title=\"discount_percentage\")\n",
    "plt.show()"
   ]
  },
  {
   "cell_type": "markdown",
   "id": "6cc1ee6a",
   "metadata": {},
   "source": [
    "# \n",
    "###### Wanted to Analyze whether discount_percentage's affect on Best_Sellers:"
   ]
  },
  {
   "cell_type": "markdown",
   "id": "6d389e08",
   "metadata": {},
   "source": [
    "###### Discount_percentage >=50% \n",
    "#### \n",
    "###### Computer_Accesories:\n"
   ]
  },
  {
   "cell_type": "code",
   "execution_count": 38,
   "id": "fa4a0f94",
   "metadata": {},
   "outputs": [],
   "source": [
    "#Applying Best_Sellers Criteria for products with discount_percentage >=50\n",
    "computers_discount1_tr=computers_discount1[(computers_discount1['rating']) >=45]\n",
    "computers_discount2_tr=computers_discount1_tr[(computers_discount1_tr['rating_count']) >=10000]"
   ]
  },
  {
   "cell_type": "code",
   "execution_count": 39,
   "id": "7cad34e2",
   "metadata": {},
   "outputs": [
    {
     "data": {
      "text/plain": [
       "7"
      ]
     },
     "execution_count": 39,
     "metadata": {},
     "output_type": "execute_result"
    }
   ],
   "source": [
    "len(computers_discount2_tr)"
   ]
  },
  {
   "cell_type": "markdown",
   "id": "5ded04ea",
   "metadata": {},
   "source": [
    "* 7 out of 22 Best_sellers from computer_accesories had a discount_percentage of over 50%\n",
    "* which is nearly one third of Best_sellers in that category\n",
    "##### \n",
    "###### Electronic Appliances:"
   ]
  },
  {
   "cell_type": "code",
   "execution_count": 40,
   "id": "8efa1c21",
   "metadata": {},
   "outputs": [],
   "source": [
    "#Applying Best_Sellers Criteria for products with discount_percentage >=50\n",
    "electronics_discount1_tr=electronics_discount1[(electronics_discount1['rating']) >=45]\n",
    "electronics_discount2_tr=electronics_discount1_tr[(electronics_discount1_tr['rating_count']) >=10000]"
   ]
  },
  {
   "cell_type": "code",
   "execution_count": 41,
   "id": "67f55db0",
   "metadata": {},
   "outputs": [
    {
     "data": {
      "text/plain": [
       "4"
      ]
     },
     "execution_count": 41,
     "metadata": {},
     "output_type": "execute_result"
    }
   ],
   "source": [
    "len(electronics_discount2_tr)"
   ]
  },
  {
   "cell_type": "markdown",
   "id": "78be07d8",
   "metadata": {},
   "source": [
    "* 4 out of 9 Best_Sellers from electronic_appliances had a discount_percentage>=50%\n",
    "* which is nearly half of Best_sellers in that category\n",
    "\n",
    "\n",
    "##### From this we can say that discount_percentage plays a vital role in the no.of products being sold and contributing products towards best_seller and top_rated categories"
   ]
  },
  {
   "cell_type": "markdown",
   "id": "ed807864",
   "metadata": {},
   "source": [
    "###### Thus we can conclude that improving the discount_percentage for Home_Appliances category can increase the number of products sold in that category"
   ]
  },
  {
   "cell_type": "markdown",
   "id": "af4e9431",
   "metadata": {},
   "source": [
    "# "
   ]
  },
  {
   "cell_type": "markdown",
   "id": "573b32b3",
   "metadata": {},
   "source": [
    "#  \n",
    "."
   ]
  }
 ],
 "metadata": {
  "kernelspec": {
   "display_name": "Python 3 (ipykernel)",
   "language": "python",
   "name": "python3"
  },
  "language_info": {
   "codemirror_mode": {
    "name": "ipython",
    "version": 3
   },
   "file_extension": ".py",
   "mimetype": "text/x-python",
   "name": "python",
   "nbconvert_exporter": "python",
   "pygments_lexer": "ipython3",
   "version": "3.9.7"
  }
 },
 "nbformat": 4,
 "nbformat_minor": 5
}
